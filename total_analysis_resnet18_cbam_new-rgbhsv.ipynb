{
 "cells": [
  {
   "cell_type": "markdown",
   "metadata": {},
   "source": [
    "## 1. 사용할 패키지 불러오기"
   ]
  },
  {
   "cell_type": "code",
   "execution_count": 1,
   "metadata": {},
   "outputs": [
    {
     "name": "stderr",
     "output_type": "stream",
     "text": [
      "/home/jongwook95.lee/miniforge3/envs/vision_machine/lib/python3.8/site-packages/tqdm/auto.py:22: TqdmWarning: IProgress not found. Please update jupyter and ipywidgets. See https://ipywidgets.readthedocs.io/en/stable/user_install.html\n",
      "  from .autonotebook import tqdm as notebook_tqdm\n"
     ]
    }
   ],
   "source": [
    "import pandas as pd\n",
    "import cv2\n",
    "import os\n",
    "from sklearn.model_selection import train_test_split\n",
    "from torch.optim import Adam\n",
    "from torch.nn import L1Loss\n",
    "import torch.nn.functional as F\n",
    "from data_gen.data_gen import DatasetGenerator\n",
    "import torch\n",
    "import torchvision.models as models\n",
    "import torch.nn as nn\n",
    "import numpy as np\n",
    "from tqdm import tqdm\n"
   ]
  },
  {
   "cell_type": "markdown",
   "metadata": {},
   "source": [
    "## 2. 데이터 불러오기"
   ]
  },
  {
   "cell_type": "code",
   "execution_count": null,
   "metadata": {},
   "outputs": [
    {
     "data": {
      "text/html": [
       "<div>\n",
       "<style scoped>\n",
       "    .dataframe tbody tr th:only-of-type {\n",
       "        vertical-align: middle;\n",
       "    }\n",
       "\n",
       "    .dataframe tbody tr th {\n",
       "        vertical-align: top;\n",
       "    }\n",
       "\n",
       "    .dataframe thead th {\n",
       "        text-align: right;\n",
       "    }\n",
       "</style>\n",
       "<table border=\"1\" class=\"dataframe\">\n",
       "  <thead>\n",
       "    <tr style=\"text-align: right;\">\n",
       "      <th></th>\n",
       "      <th>작가생존여부_사망</th>\n",
       "      <th>작가생존여부_생존</th>\n",
       "      <th>작가생존여부_알수없음</th>\n",
       "      <th>판매계절_가을</th>\n",
       "      <th>판매계절_겨울</th>\n",
       "      <th>판매계절_봄</th>\n",
       "      <th>판매계절_여름</th>\n",
       "      <th>재료_견본채색</th>\n",
       "      <th>재료_기타</th>\n",
       "      <th>재료_브론즈</th>\n",
       "      <th>...</th>\n",
       "      <th>판매처_케이옥션</th>\n",
       "      <th>판매처_헤럴드아트데이</th>\n",
       "      <th>가로</th>\n",
       "      <th>세로</th>\n",
       "      <th>작품 판매 횟수</th>\n",
       "      <th>판매가격</th>\n",
       "      <th>작가명</th>\n",
       "      <th>제목</th>\n",
       "      <th>이미지 고유 번호</th>\n",
       "      <th>이미지경로</th>\n",
       "    </tr>\n",
       "  </thead>\n",
       "  <tbody>\n",
       "    <tr>\n",
       "      <th>0</th>\n",
       "      <td>1</td>\n",
       "      <td>0</td>\n",
       "      <td>0</td>\n",
       "      <td>1</td>\n",
       "      <td>0</td>\n",
       "      <td>0</td>\n",
       "      <td>0</td>\n",
       "      <td>0</td>\n",
       "      <td>0</td>\n",
       "      <td>0</td>\n",
       "      <td>...</td>\n",
       "      <td>0</td>\n",
       "      <td>0</td>\n",
       "      <td>0.065372</td>\n",
       "      <td>0.065372</td>\n",
       "      <td>0.0</td>\n",
       "      <td>600000</td>\n",
       "      <td>임상진 Lim SangChin (1935~2013)</td>\n",
       "      <td>무제</td>\n",
       "      <td>380410</td>\n",
       "      <td>data/image/11월_files/380410.jpg</td>\n",
       "    </tr>\n",
       "    <tr>\n",
       "      <th>1</th>\n",
       "      <td>1</td>\n",
       "      <td>0</td>\n",
       "      <td>0</td>\n",
       "      <td>1</td>\n",
       "      <td>0</td>\n",
       "      <td>0</td>\n",
       "      <td>0</td>\n",
       "      <td>0</td>\n",
       "      <td>0</td>\n",
       "      <td>0</td>\n",
       "      <td>...</td>\n",
       "      <td>0</td>\n",
       "      <td>0</td>\n",
       "      <td>0.026429</td>\n",
       "      <td>0.026429</td>\n",
       "      <td>0.0</td>\n",
       "      <td>400000</td>\n",
       "      <td>정술원 Jung SulWon (1885~1959)</td>\n",
       "      <td>화조</td>\n",
       "      <td>380460</td>\n",
       "      <td>data/image/11월_files/380460.jpg</td>\n",
       "    </tr>\n",
       "    <tr>\n",
       "      <th>2</th>\n",
       "      <td>1</td>\n",
       "      <td>0</td>\n",
       "      <td>0</td>\n",
       "      <td>1</td>\n",
       "      <td>0</td>\n",
       "      <td>0</td>\n",
       "      <td>0</td>\n",
       "      <td>0</td>\n",
       "      <td>0</td>\n",
       "      <td>0</td>\n",
       "      <td>...</td>\n",
       "      <td>0</td>\n",
       "      <td>0</td>\n",
       "      <td>0.018878</td>\n",
       "      <td>0.018878</td>\n",
       "      <td>0.0</td>\n",
       "      <td>100000</td>\n",
       "      <td>정주상 Jeong JuSang (1925~2012)</td>\n",
       "      <td>심정흥장 (선면)</td>\n",
       "      <td>380491</td>\n",
       "      <td>data/image/11월_files/380491.jpg</td>\n",
       "    </tr>\n",
       "    <tr>\n",
       "      <th>3</th>\n",
       "      <td>0</td>\n",
       "      <td>1</td>\n",
       "      <td>0</td>\n",
       "      <td>1</td>\n",
       "      <td>0</td>\n",
       "      <td>0</td>\n",
       "      <td>0</td>\n",
       "      <td>0</td>\n",
       "      <td>0</td>\n",
       "      <td>0</td>\n",
       "      <td>...</td>\n",
       "      <td>0</td>\n",
       "      <td>0</td>\n",
       "      <td>0.025351</td>\n",
       "      <td>0.025351</td>\n",
       "      <td>0.0</td>\n",
       "      <td>360000</td>\n",
       "      <td>이양원 Lee YangWon (1944~)</td>\n",
       "      <td>풍속도</td>\n",
       "      <td>380417</td>\n",
       "      <td>data/image/11월_files/380417.jpg</td>\n",
       "    </tr>\n",
       "    <tr>\n",
       "      <th>4</th>\n",
       "      <td>0</td>\n",
       "      <td>1</td>\n",
       "      <td>0</td>\n",
       "      <td>1</td>\n",
       "      <td>0</td>\n",
       "      <td>0</td>\n",
       "      <td>0</td>\n",
       "      <td>0</td>\n",
       "      <td>1</td>\n",
       "      <td>0</td>\n",
       "      <td>...</td>\n",
       "      <td>0</td>\n",
       "      <td>0</td>\n",
       "      <td>0.019957</td>\n",
       "      <td>0.019957</td>\n",
       "      <td>0.0</td>\n",
       "      <td>240000</td>\n",
       "      <td>이외수 Lee OiSoo (1946~)</td>\n",
       "      <td>사람과 사람들</td>\n",
       "      <td>380391</td>\n",
       "      <td>data/image/11월_files/380391.jpg</td>\n",
       "    </tr>\n",
       "  </tbody>\n",
       "</table>\n",
       "<p>5 rows × 44 columns</p>\n",
       "</div>"
      ],
      "text/plain": [
       "   작가생존여부_사망  작가생존여부_생존  작가생존여부_알수없음  판매계절_가을  판매계절_겨울  판매계절_봄  판매계절_여름  \\\n",
       "0          1          0            0        1        0       0        0   \n",
       "1          1          0            0        1        0       0        0   \n",
       "2          1          0            0        1        0       0        0   \n",
       "3          0          1            0        1        0       0        0   \n",
       "4          0          1            0        1        0       0        0   \n",
       "\n",
       "   재료_견본채색  재료_기타  재료_브론즈  ...  판매처_케이옥션  판매처_헤럴드아트데이        가로        세로  \\\n",
       "0        0      0       0  ...         0            0  0.065372  0.065372   \n",
       "1        0      0       0  ...         0            0  0.026429  0.026429   \n",
       "2        0      0       0  ...         0            0  0.018878  0.018878   \n",
       "3        0      0       0  ...         0            0  0.025351  0.025351   \n",
       "4        0      1       0  ...         0            0  0.019957  0.019957   \n",
       "\n",
       "   작품 판매 횟수    판매가격                           작가명         제목  이미지 고유 번호  \\\n",
       "0       0.0  600000  임상진 Lim SangChin (1935~2013)         무제     380410   \n",
       "1       0.0  400000   정술원 Jung SulWon (1885~1959)         화조     380460   \n",
       "2       0.0  100000  정주상 Jeong JuSang (1925~2012)  심정흥장 (선면)     380491   \n",
       "3       0.0  360000       이양원 Lee YangWon (1944~)        풍속도     380417   \n",
       "4       0.0  240000         이외수 Lee OiSoo (1946~)    사람과 사람들     380391   \n",
       "\n",
       "                             이미지경로  \n",
       "0  data/image/11월_files/380410.jpg  \n",
       "1  data/image/11월_files/380460.jpg  \n",
       "2  data/image/11월_files/380491.jpg  \n",
       "3  data/image/11월_files/380417.jpg  \n",
       "4  data/image/11월_files/380391.jpg  \n",
       "\n",
       "[5 rows x 44 columns]"
      ]
     },
     "execution_count": 2,
     "metadata": {},
     "output_type": "execute_result"
    }
   ],
   "source": [
    "final_data = pd.read_excel('final_data.xlsx')\n",
    "final_data.head()"
   ]
  },
  {
   "cell_type": "markdown",
   "metadata": {},
   "source": [
    "## 3. 이미지 별 RGB 평균 및 HSV 평균 변수 추가"
   ]
  },
  {
   "cell_type": "code",
   "execution_count": 3,
   "metadata": {},
   "outputs": [
    {
     "name": "stdout",
     "output_type": "stream",
     "text": [
      "0\n"
     ]
    },
    {
     "name": "stderr",
     "output_type": "stream",
     "text": [
      "/tmp/ipykernel_30129/1360156975.py:15: SettingWithCopyWarning: \n",
      "A value is trying to be set on a copy of a slice from a DataFrame\n",
      "\n",
      "See the caveats in the documentation: https://pandas.pydata.org/pandas-docs/stable/user_guide/indexing.html#returning-a-view-versus-a-copy\n",
      "  final_data['R'][i] = np.mean(bgr[:, :, 2][bgr[:, :, 2] != 255])\n",
      "/tmp/ipykernel_30129/1360156975.py:16: SettingWithCopyWarning: \n",
      "A value is trying to be set on a copy of a slice from a DataFrame\n",
      "\n",
      "See the caveats in the documentation: https://pandas.pydata.org/pandas-docs/stable/user_guide/indexing.html#returning-a-view-versus-a-copy\n",
      "  final_data['G'][i] = np.mean(bgr[:, :, 1][bgr[:, :, 1] != 255])\n",
      "/tmp/ipykernel_30129/1360156975.py:17: SettingWithCopyWarning: \n",
      "A value is trying to be set on a copy of a slice from a DataFrame\n",
      "\n",
      "See the caveats in the documentation: https://pandas.pydata.org/pandas-docs/stable/user_guide/indexing.html#returning-a-view-versus-a-copy\n",
      "  final_data['B'][i] = np.mean(bgr[:, :, 0][bgr[:, :, 0] != 255])\n",
      "/tmp/ipykernel_30129/1360156975.py:18: SettingWithCopyWarning: \n",
      "A value is trying to be set on a copy of a slice from a DataFrame\n",
      "\n",
      "See the caveats in the documentation: https://pandas.pydata.org/pandas-docs/stable/user_guide/indexing.html#returning-a-view-versus-a-copy\n",
      "  final_data['H'][i] = np.mean(hsv[:, :, 0][hsv[:, :, 0] != 255])\n",
      "/tmp/ipykernel_30129/1360156975.py:19: SettingWithCopyWarning: \n",
      "A value is trying to be set on a copy of a slice from a DataFrame\n",
      "\n",
      "See the caveats in the documentation: https://pandas.pydata.org/pandas-docs/stable/user_guide/indexing.html#returning-a-view-versus-a-copy\n",
      "  final_data['S'][i] = np.mean(hsv[:, :, 1][hsv[:, :, 1] != 255])\n",
      "/tmp/ipykernel_30129/1360156975.py:20: SettingWithCopyWarning: \n",
      "A value is trying to be set on a copy of a slice from a DataFrame\n",
      "\n",
      "See the caveats in the documentation: https://pandas.pydata.org/pandas-docs/stable/user_guide/indexing.html#returning-a-view-versus-a-copy\n",
      "  final_data['V'][i] = np.mean(hsv[:, :, 2][hsv[:, :, 2] != 255])\n"
     ]
    },
    {
     "name": "stdout",
     "output_type": "stream",
     "text": [
      "500\n"
     ]
    },
    {
     "ename": "KeyboardInterrupt",
     "evalue": "",
     "output_type": "error",
     "traceback": [
      "\u001b[0;31m---------------------------------------------------------------------------\u001b[0m",
      "\u001b[0;31mKeyboardInterrupt\u001b[0m                         Traceback (most recent call last)",
      "\u001b[1;32m/home/jongwook95.lee/study/personal_analysis/km_paint_prediction/total_analysis_resnet18_cbam_new.ipynb Cell 6'\u001b[0m in \u001b[0;36m<cell line: 8>\u001b[0;34m()\u001b[0m\n\u001b[1;32m      <a href='vscode-notebook-cell://ssh-remote%2Bia07.lge.com/home/jongwook95.lee/study/personal_analysis/km_paint_prediction/total_analysis_resnet18_cbam_new.ipynb#ch0000005vscode-remote?line=8'>9</a>\u001b[0m \u001b[39mif\u001b[39;00m i \u001b[39m%\u001b[39m \u001b[39m500\u001b[39m \u001b[39m==\u001b[39m \u001b[39m0\u001b[39m:\n\u001b[1;32m     <a href='vscode-notebook-cell://ssh-remote%2Bia07.lge.com/home/jongwook95.lee/study/personal_analysis/km_paint_prediction/total_analysis_resnet18_cbam_new.ipynb#ch0000005vscode-remote?line=9'>10</a>\u001b[0m     \u001b[39mprint\u001b[39m(i)\n\u001b[0;32m---> <a href='vscode-notebook-cell://ssh-remote%2Bia07.lge.com/home/jongwook95.lee/study/personal_analysis/km_paint_prediction/total_analysis_resnet18_cbam_new.ipynb#ch0000005vscode-remote?line=10'>11</a>\u001b[0m bgr \u001b[39m=\u001b[39m cv2\u001b[39m.\u001b[39;49mimread(final_data[\u001b[39m'\u001b[39;49m\u001b[39m이미지경로\u001b[39;49m\u001b[39m'\u001b[39;49m][i])\n\u001b[1;32m     <a href='vscode-notebook-cell://ssh-remote%2Bia07.lge.com/home/jongwook95.lee/study/personal_analysis/km_paint_prediction/total_analysis_resnet18_cbam_new.ipynb#ch0000005vscode-remote?line=11'>12</a>\u001b[0m hsv \u001b[39m=\u001b[39m cv2\u001b[39m.\u001b[39mcvtColor(bgr, cv2\u001b[39m.\u001b[39mCOLOR_BGR2HSV)\n\u001b[1;32m     <a href='vscode-notebook-cell://ssh-remote%2Bia07.lge.com/home/jongwook95.lee/study/personal_analysis/km_paint_prediction/total_analysis_resnet18_cbam_new.ipynb#ch0000005vscode-remote?line=14'>15</a>\u001b[0m final_data[\u001b[39m'\u001b[39m\u001b[39mR\u001b[39m\u001b[39m'\u001b[39m][i] \u001b[39m=\u001b[39m np\u001b[39m.\u001b[39mmean(bgr[:, :, \u001b[39m2\u001b[39m][bgr[:, :, \u001b[39m2\u001b[39m] \u001b[39m!=\u001b[39m \u001b[39m255\u001b[39m])\n",
      "\u001b[0;31mKeyboardInterrupt\u001b[0m: "
     ]
    }
   ],
   "source": [
    "final_data['R'] = 0\n",
    "final_data['G'] = 0\n",
    "final_data['B'] = 0\n",
    "final_data['H'] = 0\n",
    "final_data['S'] = 0\n",
    "final_data['V'] = 0\n",
    "\n",
    "for i in range(len(final_data['이미지경로'])):\n",
    "    if i % 500 == 0:\n",
    "        print(i)\n",
    "    bgr = cv2.imread(final_data['이미지경로'][i])\n",
    "    hsv = cv2.cvtColor(bgr, cv2.COLOR_BGR2HSV)\n",
    "    \n",
    "\n",
    "    final_data['R'][i] = np.mean(bgr[:, :, 2][bgr[:, :, 2] != 255])\n",
    "    final_data['G'][i] = np.mean(bgr[:, :, 1][bgr[:, :, 1] != 255])\n",
    "    final_data['B'][i] = np.mean(bgr[:, :, 0][bgr[:, :, 0] != 255])\n",
    "    final_data['H'][i] = np.mean(hsv[:, :, 0][hsv[:, :, 0] != 255])\n",
    "    final_data['S'][i] = np.mean(hsv[:, :, 1][hsv[:, :, 1] != 255])\n",
    "    final_data['V'][i] = np.mean(hsv[:, :, 2][hsv[:, :, 2] != 255])\n",
    "    "
   ]
  },
  {
   "cell_type": "code",
   "execution_count": null,
   "metadata": {},
   "outputs": [],
   "source": [
    "final_data.to_excel('final_data_rgb_hsv.xlsx', index = False, encoding = 'euc-kr')"
   ]
  },
  {
   "cell_type": "markdown",
   "metadata": {},
   "source": [
    "## 4. 이미지외 변수 및 이미지 모두활용한 분석"
   ]
  },
  {
   "cell_type": "markdown",
   "metadata": {},
   "source": [
    "### (1) Dataset 생성"
   ]
  },
  {
   "cell_type": "code",
   "execution_count": 2,
   "metadata": {},
   "outputs": [],
   "source": [
    "final_data = pd.read_excel('final_data_rgb_hsv.xlsx')"
   ]
  },
  {
   "cell_type": "code",
   "execution_count": 3,
   "metadata": {},
   "outputs": [],
   "source": [
    "all_variable = ['작가생존여부_사망', '작가생존여부_생존', '작가생존여부_알수없음', '판매계절_가을', '판매계절_겨울', '판매계절_봄',\n",
    "       '판매계절_여름', '재료_견본채색', '재료_기타', '재료_브론즈', '재료_비단에수묵담채', '재료_석판화',\n",
    "       '재료_실크스크린', '재료_알수없음', '재료_오프셋석판화', '재료_종에이수묵담채', '재료_종이에먹', '재료_종이에수묵',\n",
    "       '재료_종이에수묵담채', '재료_종이에수묵채색', '재료_종이에수채', '재료_종이에유채', '재료_지본묵서',\n",
    "       '재료_지본수묵', '재료_지본채색', '재료_캔버스에아크릴', '재료_캔버스에유채', '재료_캔버스에혼합재료',\n",
    "       '판매처_꼬모옥션', '판매처_마이아트옥션', '판매처_서울옥션', '판매처_아이옥션', '판매처_에이옥션', '판매처_칸옥션',\n",
    "       '판매처_케이옥션', '판매처_헤럴드아트데이', '가로', '세로', '작품 판매 횟수', '이미지경로', 'R', 'G', 'B', 'H', 'S', 'V']\n",
    "\n",
    "table_variable = ['작가생존여부_사망', '작가생존여부_생존', '작가생존여부_알수없음', '판매계절_가을', '판매계절_겨울', '판매계절_봄',\n",
    "       '판매계절_여름', '재료_견본채색', '재료_기타', '재료_브론즈', '재료_비단에수묵담채', '재료_석판화',\n",
    "       '재료_실크스크린', '재료_알수없음', '재료_오프셋석판화', '재료_종에이수묵담채', '재료_종이에먹', '재료_종이에수묵',\n",
    "       '재료_종이에수묵담채', '재료_종이에수묵채색', '재료_종이에수채', '재료_종이에유채', '재료_지본묵서',\n",
    "       '재료_지본수묵', '재료_지본채색', '재료_캔버스에아크릴', '재료_캔버스에유채', '재료_캔버스에혼합재료',\n",
    "       '판매처_꼬모옥션', '판매처_마이아트옥션', '판매처_서울옥션', '판매처_아이옥션', '판매처_에이옥션', '판매처_칸옥션',\n",
    "       '판매처_케이옥션', '판매처_헤럴드아트데이', '가로', '세로', '작품 판매 횟수']"
   ]
  },
  {
   "cell_type": "code",
   "execution_count": 4,
   "metadata": {},
   "outputs": [],
   "source": [
    "X = final_data.loc[:, all_variable]\n",
    "from sklearn.preprocessing import MinMaxScaler\n",
    "min_max_scaler = MinMaxScaler()\n",
    "X.loc[:, ['R', 'G', 'B', 'H', 'S', 'V']] = min_max_scaler.fit_transform(X.loc[:, ['R', 'G', 'B', 'H', 'S', 'V']] )\n",
    "X.head()\n",
    "\n",
    "\n",
    "y = np.log10(final_data['판매가격'])"
   ]
  },
  {
   "cell_type": "code",
   "execution_count": 5,
   "metadata": {},
   "outputs": [],
   "source": [
    "train_dataset, test_dataset, train_target, test_target = train_test_split(X, y, train_size = 0.8, random_state = 1004)"
   ]
  },
  {
   "cell_type": "markdown",
   "metadata": {},
   "source": [
    "### (2) 이미지 데이터와 이미지외 변수 데이터로 분할"
   ]
  },
  {
   "cell_type": "code",
   "execution_count": 6,
   "metadata": {},
   "outputs": [],
   "source": [
    "train_image = train_dataset['이미지경로']\n",
    "train_table = train_dataset.loc[:, table_variable]\n",
    "train_table = np.array(train_table)\n",
    "\n",
    "test_image = test_dataset['이미지경로']\n",
    "test_table = test_dataset.loc[:, table_variable]\n",
    "test_table = np.array(test_table)"
   ]
  },
  {
   "cell_type": "code",
   "execution_count": 7,
   "metadata": {},
   "outputs": [],
   "source": [
    "train_image_dataset_generator = DatasetGenerator(list(train_image), list(train_target), batch_size = 16, phase = 'train', train_valid_split = False)\n",
    "train_dataloader = train_image_dataset_generator.dataloader()\n",
    "\n",
    "test_image_dataset_generator = DatasetGenerator(list(test_image), list(test_target), batch_size = 1, phase = 'test', train_valid_split = False)\n",
    "test_dataloader = test_image_dataset_generator.dataloader()"
   ]
  },
  {
   "cell_type": "markdown",
   "metadata": {},
   "source": [
    "### (4) Model 생성"
   ]
  },
  {
   "cell_type": "code",
   "execution_count": 8,
   "metadata": {},
   "outputs": [],
   "source": [
    "import torch\n",
    "import torch.nn as nn\n",
    "import math\n",
    "import torch.utils.model_zoo as model_zoo\n",
    "\n",
    "\n",
    "__all__ = ['ResNet', 'resnet18_cbam', 'resnet34_cbam', 'resnet50_cbam', 'resnet101_cbam',\n",
    "           'resnet152_cbam']\n",
    "\n",
    "\n",
    "model_urls = {\n",
    "    'resnet18': 'https://download.pytorch.org/models/resnet18-5c106cde.pth',\n",
    "    'resnet34': 'https://download.pytorch.org/models/resnet34-333f7ec4.pth',\n",
    "    'resnet50': 'https://download.pytorch.org/models/resnet50-19c8e357.pth',\n",
    "    'resnet101': 'https://download.pytorch.org/models/resnet101-5d3b4d8f.pth',\n",
    "    'resnet152': 'https://download.pytorch.org/models/resnet152-b121ed2d.pth',\n",
    "}\n",
    "\n",
    "\n",
    "def conv3x3(in_planes, out_planes, stride=1):\n",
    "    \"3x3 convolution with padding\"\n",
    "    return nn.Conv2d(in_planes, out_planes, kernel_size=3, stride=stride,\n",
    "                     padding=1, bias=False)\n",
    "\n",
    "class ChannelAttention(nn.Module):\n",
    "    def __init__(self, in_planes, ratio=16):\n",
    "        super(ChannelAttention, self).__init__()\n",
    "        self.avg_pool = nn.AdaptiveAvgPool2d(1)\n",
    "        self.max_pool = nn.AdaptiveMaxPool2d(1)\n",
    "           \n",
    "        self.fc = nn.Sequential(nn.Conv2d(in_planes, in_planes // 16, 1, bias=False),\n",
    "                               nn.ReLU(),\n",
    "                               nn.Conv2d(in_planes // 16, in_planes, 1, bias=False))\n",
    "        self.sigmoid = nn.Sigmoid()\n",
    "\n",
    "    def forward(self, x):\n",
    "        avg_out = self.fc(self.avg_pool(x))\n",
    "        max_out = self.fc(self.max_pool(x))\n",
    "        out = avg_out + max_out\n",
    "        return self.sigmoid(out)\n",
    "\n",
    "class SpatialAttention(nn.Module):\n",
    "    def __init__(self, kernel_size=7):\n",
    "        super(SpatialAttention, self).__init__()\n",
    "\n",
    "        self.conv1 = nn.Conv2d(2, 1, kernel_size, padding=kernel_size//2, bias=False)\n",
    "        self.sigmoid = nn.Sigmoid()\n",
    "\n",
    "    def forward(self, x):\n",
    "        avg_out = torch.mean(x, dim=1, keepdim=True)\n",
    "        max_out, _ = torch.max(x, dim=1, keepdim=True)\n",
    "        x = torch.cat([avg_out, max_out], dim=1)\n",
    "        x = self.conv1(x)\n",
    "        return self.sigmoid(x)\n",
    "\n",
    "class BasicBlock(nn.Module):\n",
    "    expansion = 1\n",
    "\n",
    "    def __init__(self, inplanes, planes, stride=1, downsample=None):\n",
    "        super(BasicBlock, self).__init__()\n",
    "        self.conv1 = conv3x3(inplanes, planes, stride)\n",
    "        self.bn1 = nn.BatchNorm2d(planes)\n",
    "        self.relu = nn.ReLU(inplace=True)\n",
    "        self.conv2 = conv3x3(planes, planes)\n",
    "        self.bn2 = nn.BatchNorm2d(planes)\n",
    "\n",
    "        self.ca = ChannelAttention(planes)\n",
    "        self.sa = SpatialAttention()\n",
    "\n",
    "        self.downsample = downsample\n",
    "        self.stride = stride\n",
    "\n",
    "    def forward(self, x):\n",
    "        residual = x\n",
    "\n",
    "        out = self.conv1(x)\n",
    "        out = self.bn1(out)\n",
    "        out = self.relu(out)\n",
    "\n",
    "        out = self.conv2(out)\n",
    "        out = self.bn2(out)\n",
    "\n",
    "        out = self.ca(out) * out\n",
    "        out = self.sa(out) * out\n",
    "\n",
    "        if self.downsample is not None:\n",
    "            residual = self.downsample(x)\n",
    "\n",
    "        out += residual\n",
    "        out = self.relu(out)\n",
    "\n",
    "        return out\n",
    "\n",
    "\n",
    "class Bottleneck(nn.Module):\n",
    "    expansion = 4\n",
    "\n",
    "    def __init__(self, inplanes, planes, stride=1, downsample=None):\n",
    "        super(Bottleneck, self).__init__()\n",
    "        self.conv1 = nn.Conv2d(inplanes, planes, kernel_size=1, bias=False)\n",
    "        self.bn1 = nn.BatchNorm2d(planes)\n",
    "        self.conv2 = nn.Conv2d(planes, planes, kernel_size=3, stride=stride,\n",
    "                               padding=1, bias=False)\n",
    "        self.bn2 = nn.BatchNorm2d(planes)\n",
    "        self.conv3 = nn.Conv2d(planes, planes * 4, kernel_size=1, bias=False)\n",
    "        self.bn3 = nn.BatchNorm2d(planes * 4)\n",
    "        self.relu = nn.ReLU(inplace=True)\n",
    "\n",
    "        self.ca = ChannelAttention(planes * 4)\n",
    "        self.sa = SpatialAttention()\n",
    "\n",
    "        self.downsample = downsample\n",
    "        self.stride = stride\n",
    "\n",
    "    def forward(self, x):\n",
    "        residual = x\n",
    "\n",
    "        out = self.conv1(x)\n",
    "        out = self.bn1(out)\n",
    "        out = self.relu(out)\n",
    "\n",
    "        out = self.conv2(out)\n",
    "        out = self.bn2(out)\n",
    "        out = self.relu(out)\n",
    "\n",
    "        out = self.conv3(out)\n",
    "        out = self.bn3(out)\n",
    "\n",
    "        out = self.ca(out) * out\n",
    "        out = self.sa(out) * out\n",
    "\n",
    "        if self.downsample is not None:\n",
    "            residual = self.downsample(x)\n",
    "\n",
    "        out += residual\n",
    "        out = self.relu(out)\n",
    "\n",
    "        return out\n",
    "\n",
    "\n",
    "class ResNet(nn.Module):\n",
    "\n",
    "    def __init__(self, block, layers, num_classes=1000):\n",
    "        self.inplanes = 64\n",
    "        super(ResNet, self).__init__()\n",
    "        self.conv1 = nn.Conv2d(3, 64, kernel_size=7, stride=2, padding=3,\n",
    "                               bias=False)\n",
    "        self.bn1 = nn.BatchNorm2d(64)\n",
    "        self.relu = nn.ReLU(inplace=True)\n",
    "        self.maxpool = nn.MaxPool2d(kernel_size=3, stride=2, padding=1)\n",
    "        self.layer1 = self._make_layer(block, 64, layers[0])\n",
    "        self.layer2 = self._make_layer(block, 128, layers[1], stride=2)\n",
    "        self.layer3 = self._make_layer(block, 256, layers[2], stride=2)\n",
    "        self.layer4 = self._make_layer(block, 512, layers[3], stride=2)\n",
    "        self.avgpool = nn.AdaptiveAvgPool2d((1, 1))\n",
    "        self.fc = nn.Linear(512 * block.expansion, num_classes)\n",
    "\n",
    "        for m in self.modules():\n",
    "            if isinstance(m, nn.Conv2d):\n",
    "                n = m.kernel_size[0] * m.kernel_size[1] * m.out_channels\n",
    "                m.weight.data.normal_(0, math.sqrt(2. / n))\n",
    "            elif isinstance(m, nn.BatchNorm2d):\n",
    "                m.weight.data.fill_(1)\n",
    "                m.bias.data.zero_()\n",
    "\n",
    "    def _make_layer(self, block, planes, blocks, stride=1):\n",
    "        downsample = None\n",
    "        if stride != 1 or self.inplanes != planes * block.expansion:\n",
    "            downsample = nn.Sequential(\n",
    "                nn.Conv2d(self.inplanes, planes * block.expansion,\n",
    "                          kernel_size=1, stride=stride, bias=False),\n",
    "                nn.BatchNorm2d(planes * block.expansion),\n",
    "            )\n",
    "\n",
    "        layers = []\n",
    "        layers.append(block(self.inplanes, planes, stride, downsample))\n",
    "        self.inplanes = planes * block.expansion\n",
    "        for i in range(1, blocks):\n",
    "            layers.append(block(self.inplanes, planes))\n",
    "\n",
    "        return nn.Sequential(*layers)\n",
    "\n",
    "    def forward(self, x):\n",
    "        x = self.conv1(x)\n",
    "        x = self.bn1(x)\n",
    "        x = self.relu(x)\n",
    "        x = self.maxpool(x)\n",
    "\n",
    "        x = self.layer1(x)\n",
    "        x = self.layer2(x)\n",
    "        x = self.layer3(x)\n",
    "        x = self.layer4(x)\n",
    "\n",
    "        x = self.avgpool(x)\n",
    "        x = x.view(x.size(0), -1)\n",
    "        x = self.fc(x)\n",
    "\n",
    "        return x"
   ]
  },
  {
   "cell_type": "code",
   "execution_count": 9,
   "metadata": {},
   "outputs": [],
   "source": [
    "def resnet18_cbam(pretrained=False, **kwargs):\n",
    "    \"\"\"Constructs a ResNet-18 model.\n",
    "    Args:\n",
    "        pretrained (bool): If True, returns a model pre-trained on ImageNet\n",
    "    \"\"\"\n",
    "    model = ResNet(BasicBlock, [2, 2, 2, 2], **kwargs)\n",
    "    if pretrained:\n",
    "        pretrained_state_dict = model_zoo.load_url(model_urls['resnet18'])\n",
    "        now_state_dict        = model.state_dict()\n",
    "        now_state_dict.update(pretrained_state_dict)\n",
    "        model.load_state_dict(now_state_dict)\n",
    "    return model"
   ]
  },
  {
   "cell_type": "code",
   "execution_count": 10,
   "metadata": {},
   "outputs": [],
   "source": [
    "# build model\n",
    "vision_model = resnet18_cbam(pretrained=True)\n",
    "num_ftrs = vision_model.fc.in_features\n",
    "vision_model.fc = nn.Linear(num_ftrs, 1)"
   ]
  },
  {
   "cell_type": "markdown",
   "metadata": {},
   "source": [
    "### (6) Load Best Model"
   ]
  },
  {
   "cell_type": "code",
   "execution_count": 11,
   "metadata": {},
   "outputs": [
    {
     "data": {
      "text/plain": [
       "<All keys matched successfully>"
      ]
     },
     "execution_count": 11,
     "metadata": {},
     "output_type": "execute_result"
    }
   ],
   "source": [
    "vision_model.load_state_dict(torch.load('result/Best_image_resnet18_cbam_model.pth'))"
   ]
  },
  {
   "cell_type": "code",
   "execution_count": 12,
   "metadata": {},
   "outputs": [],
   "source": [
    "vision_model.fc = nn.Identity()"
   ]
  },
  {
   "cell_type": "markdown",
   "metadata": {},
   "source": [
    "### (7) 성능 평가"
   ]
  },
  {
   "cell_type": "markdown",
   "metadata": {},
   "source": [
    "#### - 학습 데이터에 생성"
   ]
  },
  {
   "cell_type": "code",
   "execution_count": 13,
   "metadata": {},
   "outputs": [],
   "source": [
    "train_image_dataset_generator = DatasetGenerator(list(train_image), list(train_target), batch_size = 1, phase = 'test', train_valid_split = False)\n",
    "train_dataloader = train_image_dataset_generator.dataloader()"
   ]
  },
  {
   "cell_type": "code",
   "execution_count": 14,
   "metadata": {},
   "outputs": [
    {
     "name": "stdout",
     "output_type": "stream",
     "text": [
      "start prediction\n"
     ]
    }
   ],
   "source": [
    "print('start prediction')\n",
    "predictions = []\n",
    "device = torch.device(\"cuda\" if torch.cuda.is_available() else \"cpu\")\n",
    "vision_model.to(device)\n",
    "\n",
    "with torch.no_grad():  \n",
    "    for data in train_dataloader['test']:\n",
    "        images, labels = data['image'].float().to(device),  data['target'].float().to(device)\n",
    "        vision_model.eval()  \n",
    "        yhat = vision_model(images)  \n",
    "        pred = list(yhat.cpu().numpy())\n",
    "        predictions.append(pred)"
   ]
  },
  {
   "cell_type": "code",
   "execution_count": 15,
   "metadata": {},
   "outputs": [],
   "source": [
    "predictions = np.stack(predictions)[:, 0, :]\n",
    "X_train = pd.DataFrame(np.hstack([train_table, predictions]))\n",
    "y_train = train_target"
   ]
  },
  {
   "cell_type": "markdown",
   "metadata": {},
   "source": [
    "#### - 테스트 데이터 생성"
   ]
  },
  {
   "cell_type": "code",
   "execution_count": 16,
   "metadata": {},
   "outputs": [
    {
     "name": "stdout",
     "output_type": "stream",
     "text": [
      "start prediction\n"
     ]
    }
   ],
   "source": [
    "print('start prediction')\n",
    "predictions = []\n",
    "device = torch.device(\"cuda\" if torch.cuda.is_available() else \"cpu\")\n",
    "vision_model.to(device)\n",
    "\n",
    "with torch.no_grad():  \n",
    "    for data in test_dataloader['test']:\n",
    "        images, labels = data['image'].float().to(device),  data['target'].float().to(device)\n",
    "        vision_model.eval()  \n",
    "        yhat = vision_model(images)  \n",
    "        pred = list(yhat.cpu().numpy())\n",
    "        predictions.append(pred)"
   ]
  },
  {
   "cell_type": "code",
   "execution_count": 17,
   "metadata": {},
   "outputs": [],
   "source": [
    "predictions = np.stack(predictions)[:, 0, :]\n",
    "X_test = pd.DataFrame(np.hstack([test_table, predictions]))\n",
    "y_test = test_target"
   ]
  },
  {
   "cell_type": "markdown",
   "metadata": {},
   "source": [
    "#### - XGBoost Modeling"
   ]
  },
  {
   "cell_type": "code",
   "execution_count": 18,
   "metadata": {},
   "outputs": [],
   "source": [
    "from xgboost import XGBRegressor\n",
    "xgb_model = XGBRegressor(n_estimators=100, max_depth=7, learning_rate=0.1, objective='reg:squarederror').fit(X_train, y_train)"
   ]
  },
  {
   "cell_type": "code",
   "execution_count": 19,
   "metadata": {},
   "outputs": [
    {
     "name": "stdout",
     "output_type": "stream",
     "text": [
      "Train RMSE: 0.3940011652372315\n",
      "Train R2 Score: 0.6643918018360875\n",
      "Train MAE: 0.5473936753067277\n",
      "Train MAPE: 0.04944017470022416\n"
     ]
    }
   ],
   "source": [
    "from sklearn.metrics import mean_squared_error, r2_score, mean_absolute_error, mean_absolute_percentage_error\n",
    "train_predict = xgb_model.predict(X_train)\n",
    "print(\"Train RMSE: {}\".format(np.sqrt(mean_squared_error(y_train, train_predict))))\n",
    "print(\"Train R2 Score: {}\".format(r2_score(y_train, train_predict)))\n",
    "print(\"Train MAE: {}\".format(np.sqrt(mean_absolute_error(y_train, train_predict))))\n",
    "print(\"Train MAPE: {}\".format(mean_absolute_percentage_error(y_train, train_predict)))"
   ]
  },
  {
   "cell_type": "code",
   "execution_count": 20,
   "metadata": {},
   "outputs": [
    {
     "name": "stdout",
     "output_type": "stream",
     "text": [
      "Test RMSE: 0.5635213633053572\n",
      "Test R2 Score: 0.3525259779201695\n",
      "Test MAE: 0.4319865604589446\n",
      "Test MAPE: 0.07115135050616725\n"
     ]
    }
   ],
   "source": [
    "from sklearn.metrics import mean_squared_error, r2_score\n",
    "test_predict = xgb_model.predict(X_test)\n",
    "print(\"Test RMSE: {}\".format(np.sqrt(mean_squared_error(y_test, test_predict))))\n",
    "print(\"Test R2 Score: {}\".format(r2_score(y_test, test_predict)))\n",
    "print(\"Test MAE: {}\".format(mean_absolute_error(y_test, test_predict)))\n",
    "print(\"Test MAPE: {}\".format(mean_absolute_percentage_error(y_test, test_predict)))"
   ]
  },
  {
   "cell_type": "markdown",
   "metadata": {},
   "source": [
    "#### 상위 Image Feature 추출"
   ]
  },
  {
   "cell_type": "code",
   "execution_count": 55,
   "metadata": {},
   "outputs": [],
   "source": [
    "feature_importance = list(xgb_model.feature_importances_[:45])+ list(xgb_model.feature_importances_[45:][xgb_model.feature_importances_[45:].argsort()[-10:][::-1]])\n",
    "feature_name = table_variable + ['Image_Feature1', 'Image_Feature2', 'Image_Feature3', 'Image_Feature4','Image_Feature5', 'Image_Feature6', 'Image_Feature7', 'Image_Feature8', 'Image_Feature9', 'Image_Feature10']\n",
    "feature_importance = pd.DataFrame({'Feature': feature_name, 'Contribution': feature_importance})\n",
    "feature_importance = feature_importance.sort_values(by = 'Contribution', ascending=False).reset_index(drop = True)\n",
    "feature_importance.to_csv(\"Feature_contribution.csv\", index = False, encoding = 'euc-kr')"
   ]
  },
  {
   "cell_type": "code",
   "execution_count": null,
   "metadata": {},
   "outputs": [],
   "source": []
  }
 ],
 "metadata": {
  "interpreter": {
   "hash": "8786e27bd1086ac4d9d40cc5555f877076005eb73afcfe8ecd44164236edd6aa"
  },
  "kernelspec": {
   "display_name": "Python 3.8.13 ('vision_machine')",
   "language": "python",
   "name": "python3"
  },
  "language_info": {
   "codemirror_mode": {
    "name": "ipython",
    "version": 3
   },
   "file_extension": ".py",
   "mimetype": "text/x-python",
   "name": "python",
   "nbconvert_exporter": "python",
   "pygments_lexer": "ipython3",
   "version": "3.8.13"
  },
  "orig_nbformat": 4
 },
 "nbformat": 4,
 "nbformat_minor": 2
}
