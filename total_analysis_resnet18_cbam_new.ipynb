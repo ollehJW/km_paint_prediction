{
 "cells": [
  {
   "cell_type": "markdown",
   "metadata": {},
   "source": [
    "## 1. 사용할 패키지 불러오기"
   ]
  },
  {
   "cell_type": "code",
   "execution_count": 2,
   "metadata": {},
   "outputs": [
    {
     "name": "stderr",
     "output_type": "stream",
     "text": [
      "/home/jongwook95.lee/miniforge3/envs/vision_machine/lib/python3.8/site-packages/tqdm/auto.py:22: TqdmWarning: IProgress not found. Please update jupyter and ipywidgets. See https://ipywidgets.readthedocs.io/en/stable/user_install.html\n",
      "  from .autonotebook import tqdm as notebook_tqdm\n"
     ]
    }
   ],
   "source": [
    "import pandas as pd\n",
    "import cv2\n",
    "import os\n",
    "from sklearn.model_selection import train_test_split\n",
    "from torch.optim import Adam\n",
    "from torch.nn import L1Loss\n",
    "import torch.nn.functional as F\n",
    "from data_gen.data_gen import DatasetGenerator\n",
    "import torch\n",
    "import torchvision.models as models\n",
    "import torch.nn as nn\n",
    "import numpy as np\n",
    "from tqdm import tqdm\n"
   ]
  },
  {
   "cell_type": "markdown",
   "metadata": {},
   "source": [
    "## 2. 데이터 불러오기"
   ]
  },
  {
   "cell_type": "code",
   "execution_count": null,
   "metadata": {},
   "outputs": [],
   "source": [
    "final_data = pd.read_excel('final_data.xlsx')\n",
    "final_data.head()"
   ]
  },
  {
   "cell_type": "markdown",
   "metadata": {},
   "source": [
    "## 3. 이미지 별 RGB 평균 및 HSV 평균 변수 추가"
   ]
  },
  {
   "cell_type": "code",
   "execution_count": null,
   "metadata": {},
   "outputs": [],
   "source": [
    "final_data['R'] = 0\n",
    "final_data['G'] = 0\n",
    "final_data['B'] = 0\n",
    "final_data['H'] = 0\n",
    "final_data['S'] = 0\n",
    "final_data['V'] = 0\n",
    "\n",
    "for i in range(len(final_data['이미지경로'])):\n",
    "    if i % 500 == 0:\n",
    "        print(i)\n",
    "    bgr = cv2.imread(final_data['이미지경로'][i])\n",
    "    hsv = cv2.cvtColor(bgr, cv2.COLOR_BGR2HSV)\n",
    "    \n",
    "\n",
    "    final_data['R'][i] = np.mean(bgr[:, :, 2][bgr[:, :, 2] != 255])\n",
    "    final_data['G'][i] = np.mean(bgr[:, :, 1][bgr[:, :, 1] != 255])\n",
    "    final_data['B'][i] = np.mean(bgr[:, :, 0][bgr[:, :, 0] != 255])\n",
    "    final_data['H'][i] = np.mean(hsv[:, :, 0][hsv[:, :, 0] != 255])\n",
    "    final_data['S'][i] = np.mean(hsv[:, :, 1][hsv[:, :, 1] != 255])\n",
    "    final_data['V'][i] = np.mean(hsv[:, :, 2][hsv[:, :, 2] != 255])\n",
    "    "
   ]
  },
  {
   "cell_type": "code",
   "execution_count": null,
   "metadata": {},
   "outputs": [],
   "source": [
    "final_data.to_excel('final_data_rgb_hsv.xlsx', index = False, encoding = 'euc-kr')"
   ]
  },
  {
   "cell_type": "markdown",
   "metadata": {},
   "source": [
    "## 4. 이미지외 변수 및 이미지 모두활용한 분석"
   ]
  },
  {
   "cell_type": "markdown",
   "metadata": {},
   "source": [
    "### (1) Dataset 생성"
   ]
  },
  {
   "cell_type": "code",
   "execution_count": 3,
   "metadata": {},
   "outputs": [],
   "source": [
    "final_data = pd.read_excel('final_data_rgb_hsv.xlsx')"
   ]
  },
  {
   "cell_type": "code",
   "execution_count": 4,
   "metadata": {},
   "outputs": [],
   "source": [
    "all_variable = ['작가생존여부_사망', '작가생존여부_생존', '작가생존여부_알수없음', '판매계절_가을', '판매계절_겨울', '판매계절_봄',\n",
    "       '판매계절_여름', '재료_견본채색', '재료_기타', '재료_브론즈', '재료_비단에수묵담채', '재료_석판화',\n",
    "       '재료_실크스크린', '재료_알수없음', '재료_오프셋석판화', '재료_종에이수묵담채', '재료_종이에먹', '재료_종이에수묵',\n",
    "       '재료_종이에수묵담채', '재료_종이에수묵채색', '재료_종이에수채', '재료_종이에유채', '재료_지본묵서',\n",
    "       '재료_지본수묵', '재료_지본채색', '재료_캔버스에아크릴', '재료_캔버스에유채', '재료_캔버스에혼합재료',\n",
    "       '판매처_꼬모옥션', '판매처_마이아트옥션', '판매처_서울옥션', '판매처_아이옥션', '판매처_에이옥션', '판매처_칸옥션',\n",
    "       '판매처_케이옥션', '판매처_헤럴드아트데이', '가로', '세로', '작품 판매 횟수', '이미지경로', 'R', 'G', 'B', 'H', 'S', 'V']\n",
    "\n",
    "table_variable = ['작가생존여부_사망', '작가생존여부_생존', '작가생존여부_알수없음', '판매계절_가을', '판매계절_겨울', '판매계절_봄',\n",
    "       '판매계절_여름', '재료_견본채색', '재료_기타', '재료_브론즈', '재료_비단에수묵담채', '재료_석판화',\n",
    "       '재료_실크스크린', '재료_알수없음', '재료_오프셋석판화', '재료_종에이수묵담채', '재료_종이에먹', '재료_종이에수묵',\n",
    "       '재료_종이에수묵담채', '재료_종이에수묵채색', '재료_종이에수채', '재료_종이에유채', '재료_지본묵서',\n",
    "       '재료_지본수묵', '재료_지본채색', '재료_캔버스에아크릴', '재료_캔버스에유채', '재료_캔버스에혼합재료',\n",
    "       '판매처_꼬모옥션', '판매처_마이아트옥션', '판매처_서울옥션', '판매처_아이옥션', '판매처_에이옥션', '판매처_칸옥션',\n",
    "       '판매처_케이옥션', '판매처_헤럴드아트데이', '가로', '세로', '작품 판매 횟수', 'R', 'G', 'B', 'H', 'S', 'V']"
   ]
  },
  {
   "cell_type": "code",
   "execution_count": 5,
   "metadata": {},
   "outputs": [],
   "source": [
    "X = final_data.loc[:, all_variable]\n",
    "from sklearn.preprocessing import MinMaxScaler\n",
    "min_max_scaler = MinMaxScaler()\n",
    "X.loc[:, ['R', 'G', 'B', 'H', 'S', 'V']] = min_max_scaler.fit_transform(X.loc[:, ['R', 'G', 'B', 'H', 'S', 'V']] )\n",
    "X.head()\n",
    "\n",
    "\n",
    "y = np.log10(final_data['판매가격'])"
   ]
  },
  {
   "cell_type": "code",
   "execution_count": 6,
   "metadata": {},
   "outputs": [],
   "source": [
    "train_dataset, test_dataset, train_target, test_target = train_test_split(X, y, train_size = 0.8, random_state = 1004)"
   ]
  },
  {
   "cell_type": "markdown",
   "metadata": {},
   "source": [
    "### (2) 이미지 데이터와 이미지외 변수 데이터로 분할"
   ]
  },
  {
   "cell_type": "code",
   "execution_count": 7,
   "metadata": {},
   "outputs": [],
   "source": [
    "train_image = train_dataset['이미지경로']\n",
    "train_table = train_dataset.loc[:, table_variable]\n",
    "train_table = np.array(train_table)\n",
    "\n",
    "test_image = test_dataset['이미지경로']\n",
    "test_table = test_dataset.loc[:, table_variable]\n",
    "test_table = np.array(test_table)"
   ]
  },
  {
   "cell_type": "code",
   "execution_count": 8,
   "metadata": {},
   "outputs": [],
   "source": [
    "train_image_dataset_generator = DatasetGenerator(list(train_image), list(train_target), batch_size = 16, phase = 'train', train_valid_split = False)\n",
    "train_dataloader = train_image_dataset_generator.dataloader()\n",
    "\n",
    "test_image_dataset_generator = DatasetGenerator(list(test_image), list(test_target), batch_size = 1, phase = 'test', train_valid_split = False)\n",
    "test_dataloader = test_image_dataset_generator.dataloader()"
   ]
  },
  {
   "cell_type": "markdown",
   "metadata": {},
   "source": [
    "### (4) Model 생성"
   ]
  },
  {
   "cell_type": "code",
   "execution_count": 9,
   "metadata": {},
   "outputs": [],
   "source": [
    "import torch\n",
    "import torch.nn as nn\n",
    "import math\n",
    "import torch.utils.model_zoo as model_zoo\n",
    "\n",
    "\n",
    "__all__ = ['ResNet', 'resnet18_cbam', 'resnet34_cbam', 'resnet50_cbam', 'resnet101_cbam',\n",
    "           'resnet152_cbam']\n",
    "\n",
    "\n",
    "model_urls = {\n",
    "    'resnet18': 'https://download.pytorch.org/models/resnet18-5c106cde.pth',\n",
    "    'resnet34': 'https://download.pytorch.org/models/resnet34-333f7ec4.pth',\n",
    "    'resnet50': 'https://download.pytorch.org/models/resnet50-19c8e357.pth',\n",
    "    'resnet101': 'https://download.pytorch.org/models/resnet101-5d3b4d8f.pth',\n",
    "    'resnet152': 'https://download.pytorch.org/models/resnet152-b121ed2d.pth',\n",
    "}\n",
    "\n",
    "\n",
    "def conv3x3(in_planes, out_planes, stride=1):\n",
    "    \"3x3 convolution with padding\"\n",
    "    return nn.Conv2d(in_planes, out_planes, kernel_size=3, stride=stride,\n",
    "                     padding=1, bias=False)\n",
    "\n",
    "class ChannelAttention(nn.Module):\n",
    "    def __init__(self, in_planes, ratio=16):\n",
    "        super(ChannelAttention, self).__init__()\n",
    "        self.avg_pool = nn.AdaptiveAvgPool2d(1)\n",
    "        self.max_pool = nn.AdaptiveMaxPool2d(1)\n",
    "           \n",
    "        self.fc = nn.Sequential(nn.Conv2d(in_planes, in_planes // 16, 1, bias=False),\n",
    "                               nn.ReLU(),\n",
    "                               nn.Conv2d(in_planes // 16, in_planes, 1, bias=False))\n",
    "        self.sigmoid = nn.Sigmoid()\n",
    "\n",
    "    def forward(self, x):\n",
    "        avg_out = self.fc(self.avg_pool(x))\n",
    "        max_out = self.fc(self.max_pool(x))\n",
    "        out = avg_out + max_out\n",
    "        return self.sigmoid(out)\n",
    "\n",
    "class SpatialAttention(nn.Module):\n",
    "    def __init__(self, kernel_size=7):\n",
    "        super(SpatialAttention, self).__init__()\n",
    "\n",
    "        self.conv1 = nn.Conv2d(2, 1, kernel_size, padding=kernel_size//2, bias=False)\n",
    "        self.sigmoid = nn.Sigmoid()\n",
    "\n",
    "    def forward(self, x):\n",
    "        avg_out = torch.mean(x, dim=1, keepdim=True)\n",
    "        max_out, _ = torch.max(x, dim=1, keepdim=True)\n",
    "        x = torch.cat([avg_out, max_out], dim=1)\n",
    "        x = self.conv1(x)\n",
    "        return self.sigmoid(x)\n",
    "\n",
    "class BasicBlock(nn.Module):\n",
    "    expansion = 1\n",
    "\n",
    "    def __init__(self, inplanes, planes, stride=1, downsample=None):\n",
    "        super(BasicBlock, self).__init__()\n",
    "        self.conv1 = conv3x3(inplanes, planes, stride)\n",
    "        self.bn1 = nn.BatchNorm2d(planes)\n",
    "        self.relu = nn.ReLU(inplace=True)\n",
    "        self.conv2 = conv3x3(planes, planes)\n",
    "        self.bn2 = nn.BatchNorm2d(planes)\n",
    "\n",
    "        self.ca = ChannelAttention(planes)\n",
    "        self.sa = SpatialAttention()\n",
    "\n",
    "        self.downsample = downsample\n",
    "        self.stride = stride\n",
    "\n",
    "    def forward(self, x):\n",
    "        residual = x\n",
    "\n",
    "        out = self.conv1(x)\n",
    "        out = self.bn1(out)\n",
    "        out = self.relu(out)\n",
    "\n",
    "        out = self.conv2(out)\n",
    "        out = self.bn2(out)\n",
    "\n",
    "        out = self.ca(out) * out\n",
    "        out = self.sa(out) * out\n",
    "\n",
    "        if self.downsample is not None:\n",
    "            residual = self.downsample(x)\n",
    "\n",
    "        out += residual\n",
    "        out = self.relu(out)\n",
    "\n",
    "        return out\n",
    "\n",
    "\n",
    "class Bottleneck(nn.Module):\n",
    "    expansion = 4\n",
    "\n",
    "    def __init__(self, inplanes, planes, stride=1, downsample=None):\n",
    "        super(Bottleneck, self).__init__()\n",
    "        self.conv1 = nn.Conv2d(inplanes, planes, kernel_size=1, bias=False)\n",
    "        self.bn1 = nn.BatchNorm2d(planes)\n",
    "        self.conv2 = nn.Conv2d(planes, planes, kernel_size=3, stride=stride,\n",
    "                               padding=1, bias=False)\n",
    "        self.bn2 = nn.BatchNorm2d(planes)\n",
    "        self.conv3 = nn.Conv2d(planes, planes * 4, kernel_size=1, bias=False)\n",
    "        self.bn3 = nn.BatchNorm2d(planes * 4)\n",
    "        self.relu = nn.ReLU(inplace=True)\n",
    "\n",
    "        self.ca = ChannelAttention(planes * 4)\n",
    "        self.sa = SpatialAttention()\n",
    "\n",
    "        self.downsample = downsample\n",
    "        self.stride = stride\n",
    "\n",
    "    def forward(self, x):\n",
    "        residual = x\n",
    "\n",
    "        out = self.conv1(x)\n",
    "        out = self.bn1(out)\n",
    "        out = self.relu(out)\n",
    "\n",
    "        out = self.conv2(out)\n",
    "        out = self.bn2(out)\n",
    "        out = self.relu(out)\n",
    "\n",
    "        out = self.conv3(out)\n",
    "        out = self.bn3(out)\n",
    "\n",
    "        out = self.ca(out) * out\n",
    "        out = self.sa(out) * out\n",
    "\n",
    "        if self.downsample is not None:\n",
    "            residual = self.downsample(x)\n",
    "\n",
    "        out += residual\n",
    "        out = self.relu(out)\n",
    "\n",
    "        return out\n",
    "\n",
    "\n",
    "class ResNet(nn.Module):\n",
    "\n",
    "    def __init__(self, block, layers, num_classes=1000):\n",
    "        self.inplanes = 64\n",
    "        super(ResNet, self).__init__()\n",
    "        self.conv1 = nn.Conv2d(3, 64, kernel_size=7, stride=2, padding=3,\n",
    "                               bias=False)\n",
    "        self.bn1 = nn.BatchNorm2d(64)\n",
    "        self.relu = nn.ReLU(inplace=True)\n",
    "        self.maxpool = nn.MaxPool2d(kernel_size=3, stride=2, padding=1)\n",
    "        self.layer1 = self._make_layer(block, 64, layers[0])\n",
    "        self.layer2 = self._make_layer(block, 128, layers[1], stride=2)\n",
    "        self.layer3 = self._make_layer(block, 256, layers[2], stride=2)\n",
    "        self.layer4 = self._make_layer(block, 512, layers[3], stride=2)\n",
    "        self.avgpool = nn.AdaptiveAvgPool2d((1, 1))\n",
    "        self.fc = nn.Linear(512 * block.expansion, num_classes)\n",
    "\n",
    "        for m in self.modules():\n",
    "            if isinstance(m, nn.Conv2d):\n",
    "                n = m.kernel_size[0] * m.kernel_size[1] * m.out_channels\n",
    "                m.weight.data.normal_(0, math.sqrt(2. / n))\n",
    "            elif isinstance(m, nn.BatchNorm2d):\n",
    "                m.weight.data.fill_(1)\n",
    "                m.bias.data.zero_()\n",
    "\n",
    "    def _make_layer(self, block, planes, blocks, stride=1):\n",
    "        downsample = None\n",
    "        if stride != 1 or self.inplanes != planes * block.expansion:\n",
    "            downsample = nn.Sequential(\n",
    "                nn.Conv2d(self.inplanes, planes * block.expansion,\n",
    "                          kernel_size=1, stride=stride, bias=False),\n",
    "                nn.BatchNorm2d(planes * block.expansion),\n",
    "            )\n",
    "\n",
    "        layers = []\n",
    "        layers.append(block(self.inplanes, planes, stride, downsample))\n",
    "        self.inplanes = planes * block.expansion\n",
    "        for i in range(1, blocks):\n",
    "            layers.append(block(self.inplanes, planes))\n",
    "\n",
    "        return nn.Sequential(*layers)\n",
    "\n",
    "    def forward(self, x):\n",
    "        x = self.conv1(x)\n",
    "        x = self.bn1(x)\n",
    "        x = self.relu(x)\n",
    "        x = self.maxpool(x)\n",
    "\n",
    "        x = self.layer1(x)\n",
    "        x = self.layer2(x)\n",
    "        x = self.layer3(x)\n",
    "        x = self.layer4(x)\n",
    "\n",
    "        x = self.avgpool(x)\n",
    "        x = x.view(x.size(0), -1)\n",
    "        x = self.fc(x)\n",
    "\n",
    "        return x"
   ]
  },
  {
   "cell_type": "code",
   "execution_count": 10,
   "metadata": {},
   "outputs": [],
   "source": [
    "def resnet18_cbam(pretrained=False, **kwargs):\n",
    "    \"\"\"Constructs a ResNet-18 model.\n",
    "    Args:\n",
    "        pretrained (bool): If True, returns a model pre-trained on ImageNet\n",
    "    \"\"\"\n",
    "    model = ResNet(BasicBlock, [2, 2, 2, 2], **kwargs)\n",
    "    if pretrained:\n",
    "        pretrained_state_dict = model_zoo.load_url(model_urls['resnet18'])\n",
    "        now_state_dict        = model.state_dict()\n",
    "        now_state_dict.update(pretrained_state_dict)\n",
    "        model.load_state_dict(now_state_dict)\n",
    "    return model"
   ]
  },
  {
   "cell_type": "code",
   "execution_count": 11,
   "metadata": {},
   "outputs": [],
   "source": [
    "# build model\n",
    "vision_model = resnet18_cbam(pretrained=True)\n",
    "num_ftrs = vision_model.fc.in_features\n",
    "vision_model.fc = nn.Linear(num_ftrs, 1)"
   ]
  },
  {
   "cell_type": "markdown",
   "metadata": {},
   "source": [
    "### (6) Load Best Model"
   ]
  },
  {
   "cell_type": "code",
   "execution_count": 12,
   "metadata": {},
   "outputs": [
    {
     "data": {
      "text/plain": [
       "<All keys matched successfully>"
      ]
     },
     "execution_count": 12,
     "metadata": {},
     "output_type": "execute_result"
    }
   ],
   "source": [
    "vision_model.load_state_dict(torch.load('result/Best_image_resnet18_cbam_model.pth'))"
   ]
  },
  {
   "cell_type": "code",
   "execution_count": 13,
   "metadata": {},
   "outputs": [],
   "source": [
    "vision_model.fc = nn.Identity()"
   ]
  },
  {
   "cell_type": "markdown",
   "metadata": {},
   "source": [
    "### (7) 성능 평가"
   ]
  },
  {
   "cell_type": "markdown",
   "metadata": {},
   "source": [
    "#### - 학습 데이터에 생성"
   ]
  },
  {
   "cell_type": "code",
   "execution_count": 16,
   "metadata": {},
   "outputs": [],
   "source": [
    "train_image_dataset_generator = DatasetGenerator(list(train_image), list(train_target), batch_size = 1, phase = 'test', train_valid_split = False)\n",
    "train_dataloader = train_image_dataset_generator.dataloader()"
   ]
  },
  {
   "cell_type": "code",
   "execution_count": 17,
   "metadata": {},
   "outputs": [
    {
     "name": "stdout",
     "output_type": "stream",
     "text": [
      "start prediction\n"
     ]
    }
   ],
   "source": [
    "print('start prediction')\n",
    "predictions = []\n",
    "device = torch.device(\"cuda\" if torch.cuda.is_available() else \"cpu\")\n",
    "vision_model.to(device)\n",
    "\n",
    "with torch.no_grad():  \n",
    "    for data in train_dataloader['test']:\n",
    "        images, labels = data['image'].float().to(device),  data['target'].float().to(device)\n",
    "        vision_model.eval()  \n",
    "        yhat = vision_model(images)  \n",
    "        pred = list(yhat.cpu().numpy())\n",
    "        predictions.append(pred)"
   ]
  },
  {
   "cell_type": "code",
   "execution_count": 18,
   "metadata": {},
   "outputs": [],
   "source": [
    "predictions = np.stack(predictions)[:, 0, :]\n",
    "X_train = pd.DataFrame(np.hstack([train_table, predictions]))\n",
    "y_train = train_target"
   ]
  },
  {
   "cell_type": "markdown",
   "metadata": {},
   "source": [
    "#### - 테스트 데이터 생성"
   ]
  },
  {
   "cell_type": "code",
   "execution_count": 19,
   "metadata": {},
   "outputs": [
    {
     "name": "stdout",
     "output_type": "stream",
     "text": [
      "start prediction\n"
     ]
    }
   ],
   "source": [
    "print('start prediction')\n",
    "predictions = []\n",
    "device = torch.device(\"cuda\" if torch.cuda.is_available() else \"cpu\")\n",
    "vision_model.to(device)\n",
    "\n",
    "with torch.no_grad():  \n",
    "    for data in test_dataloader['test']:\n",
    "        images, labels = data['image'].float().to(device),  data['target'].float().to(device)\n",
    "        vision_model.eval()  \n",
    "        yhat = vision_model(images)  \n",
    "        pred = list(yhat.cpu().numpy())\n",
    "        predictions.append(pred)"
   ]
  },
  {
   "cell_type": "code",
   "execution_count": 20,
   "metadata": {},
   "outputs": [],
   "source": [
    "predictions = np.stack(predictions)[:, 0, :]\n",
    "X_test = pd.DataFrame(np.hstack([test_table, predictions]))\n",
    "y_test = test_target"
   ]
  },
  {
   "cell_type": "markdown",
   "metadata": {},
   "source": [
    "#### - XGBoost Modeling"
   ]
  },
  {
   "cell_type": "code",
   "execution_count": 22,
   "metadata": {},
   "outputs": [
    {
     "ename": "KeyboardInterrupt",
     "evalue": "",
     "output_type": "error",
     "traceback": [
      "\u001b[0;31m---------------------------------------------------------------------------\u001b[0m",
      "\u001b[0;31mKeyboardInterrupt\u001b[0m                         Traceback (most recent call last)",
      "\u001b[1;32m/home/jongwook95.lee/study/personal_analysis/km_paint_prediction/total_analysis_resnet18_cbam_new.ipynb Cell 33'\u001b[0m in \u001b[0;36m<cell line: 14>\u001b[0;34m()\u001b[0m\n\u001b[1;32m     <a href='vscode-notebook-cell://ssh-remote%2Bia07.lge.com/home/jongwook95.lee/study/personal_analysis/km_paint_prediction/total_analysis_resnet18_cbam_new.ipynb#ch0000037vscode-remote?line=15'>16</a>\u001b[0m \u001b[39mfor\u001b[39;00m max_depth \u001b[39min\u001b[39;00m max_depth_candidate:\n\u001b[1;32m     <a href='vscode-notebook-cell://ssh-remote%2Bia07.lge.com/home/jongwook95.lee/study/personal_analysis/km_paint_prediction/total_analysis_resnet18_cbam_new.ipynb#ch0000037vscode-remote?line=16'>17</a>\u001b[0m     \u001b[39m# XGBoost의 learning_rate 파라미터에 대해서\u001b[39;00m\n\u001b[1;32m     <a href='vscode-notebook-cell://ssh-remote%2Bia07.lge.com/home/jongwook95.lee/study/personal_analysis/km_paint_prediction/total_analysis_resnet18_cbam_new.ipynb#ch0000037vscode-remote?line=17'>18</a>\u001b[0m     \u001b[39mfor\u001b[39;00m learning_rate \u001b[39min\u001b[39;00m learning_rate_candidate:\n\u001b[1;32m     <a href='vscode-notebook-cell://ssh-remote%2Bia07.lge.com/home/jongwook95.lee/study/personal_analysis/km_paint_prediction/total_analysis_resnet18_cbam_new.ipynb#ch0000037vscode-remote?line=18'>19</a>\u001b[0m         \u001b[39m# 모델 생성 및 학습\u001b[39;00m\n\u001b[0;32m---> <a href='vscode-notebook-cell://ssh-remote%2Bia07.lge.com/home/jongwook95.lee/study/personal_analysis/km_paint_prediction/total_analysis_resnet18_cbam_new.ipynb#ch0000037vscode-remote?line=19'>20</a>\u001b[0m         model \u001b[39m=\u001b[39m XGBRegressor(n_estimators\u001b[39m=\u001b[39;49mn_estimators, max_depth\u001b[39m=\u001b[39;49mmax_depth, learning_rate\u001b[39m=\u001b[39;49mlearning_rate, objective\u001b[39m=\u001b[39;49m\u001b[39m'\u001b[39;49m\u001b[39mreg:squarederror\u001b[39;49m\u001b[39m'\u001b[39;49m)\u001b[39m.\u001b[39;49mfit(X_train, y_train)\n\u001b[1;32m     <a href='vscode-notebook-cell://ssh-remote%2Bia07.lge.com/home/jongwook95.lee/study/personal_analysis/km_paint_prediction/total_analysis_resnet18_cbam_new.ipynb#ch0000037vscode-remote?line=20'>21</a>\u001b[0m         \u001b[39m# Train 데이터에 대한 결과 확인\u001b[39;00m\n\u001b[1;32m     <a href='vscode-notebook-cell://ssh-remote%2Bia07.lge.com/home/jongwook95.lee/study/personal_analysis/km_paint_prediction/total_analysis_resnet18_cbam_new.ipynb#ch0000037vscode-remote?line=21'>22</a>\u001b[0m         train_predict \u001b[39m=\u001b[39m model\u001b[39m.\u001b[39mpredict(X_train)\n",
      "File \u001b[0;32m~/miniforge3/envs/vision_machine/lib/python3.8/site-packages/xgboost/core.py:575\u001b[0m, in \u001b[0;36m_deprecate_positional_args.<locals>.inner_f\u001b[0;34m(*args, **kwargs)\u001b[0m\n\u001b[1;32m    <a href='file:///home/jongwook95.lee/miniforge3/envs/vision_machine/lib/python3.8/site-packages/xgboost/core.py?line=572'>573</a>\u001b[0m \u001b[39mfor\u001b[39;00m k, arg \u001b[39min\u001b[39;00m \u001b[39mzip\u001b[39m(sig\u001b[39m.\u001b[39mparameters, args):\n\u001b[1;32m    <a href='file:///home/jongwook95.lee/miniforge3/envs/vision_machine/lib/python3.8/site-packages/xgboost/core.py?line=573'>574</a>\u001b[0m     kwargs[k] \u001b[39m=\u001b[39m arg\n\u001b[0;32m--> <a href='file:///home/jongwook95.lee/miniforge3/envs/vision_machine/lib/python3.8/site-packages/xgboost/core.py?line=574'>575</a>\u001b[0m \u001b[39mreturn\u001b[39;00m f(\u001b[39m*\u001b[39;49m\u001b[39m*\u001b[39;49mkwargs)\n",
      "File \u001b[0;32m~/miniforge3/envs/vision_machine/lib/python3.8/site-packages/xgboost/sklearn.py:961\u001b[0m, in \u001b[0;36mXGBModel.fit\u001b[0;34m(self, X, y, sample_weight, base_margin, eval_set, eval_metric, early_stopping_rounds, verbose, xgb_model, sample_weight_eval_set, base_margin_eval_set, feature_weights, callbacks)\u001b[0m\n\u001b[1;32m    <a href='file:///home/jongwook95.lee/miniforge3/envs/vision_machine/lib/python3.8/site-packages/xgboost/sklearn.py?line=955'>956</a>\u001b[0m     obj \u001b[39m=\u001b[39m \u001b[39mNone\u001b[39;00m\n\u001b[1;32m    <a href='file:///home/jongwook95.lee/miniforge3/envs/vision_machine/lib/python3.8/site-packages/xgboost/sklearn.py?line=957'>958</a>\u001b[0m model, metric, params, early_stopping_rounds, callbacks \u001b[39m=\u001b[39m \u001b[39mself\u001b[39m\u001b[39m.\u001b[39m_configure_fit(\n\u001b[1;32m    <a href='file:///home/jongwook95.lee/miniforge3/envs/vision_machine/lib/python3.8/site-packages/xgboost/sklearn.py?line=958'>959</a>\u001b[0m     xgb_model, eval_metric, params, early_stopping_rounds, callbacks\n\u001b[1;32m    <a href='file:///home/jongwook95.lee/miniforge3/envs/vision_machine/lib/python3.8/site-packages/xgboost/sklearn.py?line=959'>960</a>\u001b[0m )\n\u001b[0;32m--> <a href='file:///home/jongwook95.lee/miniforge3/envs/vision_machine/lib/python3.8/site-packages/xgboost/sklearn.py?line=960'>961</a>\u001b[0m \u001b[39mself\u001b[39m\u001b[39m.\u001b[39m_Booster \u001b[39m=\u001b[39m train(\n\u001b[1;32m    <a href='file:///home/jongwook95.lee/miniforge3/envs/vision_machine/lib/python3.8/site-packages/xgboost/sklearn.py?line=961'>962</a>\u001b[0m     params,\n\u001b[1;32m    <a href='file:///home/jongwook95.lee/miniforge3/envs/vision_machine/lib/python3.8/site-packages/xgboost/sklearn.py?line=962'>963</a>\u001b[0m     train_dmatrix,\n\u001b[1;32m    <a href='file:///home/jongwook95.lee/miniforge3/envs/vision_machine/lib/python3.8/site-packages/xgboost/sklearn.py?line=963'>964</a>\u001b[0m     \u001b[39mself\u001b[39;49m\u001b[39m.\u001b[39;49mget_num_boosting_rounds(),\n\u001b[1;32m    <a href='file:///home/jongwook95.lee/miniforge3/envs/vision_machine/lib/python3.8/site-packages/xgboost/sklearn.py?line=964'>965</a>\u001b[0m     evals\u001b[39m=\u001b[39;49mevals,\n\u001b[1;32m    <a href='file:///home/jongwook95.lee/miniforge3/envs/vision_machine/lib/python3.8/site-packages/xgboost/sklearn.py?line=965'>966</a>\u001b[0m     early_stopping_rounds\u001b[39m=\u001b[39;49mearly_stopping_rounds,\n\u001b[1;32m    <a href='file:///home/jongwook95.lee/miniforge3/envs/vision_machine/lib/python3.8/site-packages/xgboost/sklearn.py?line=966'>967</a>\u001b[0m     evals_result\u001b[39m=\u001b[39;49mevals_result,\n\u001b[1;32m    <a href='file:///home/jongwook95.lee/miniforge3/envs/vision_machine/lib/python3.8/site-packages/xgboost/sklearn.py?line=967'>968</a>\u001b[0m     obj\u001b[39m=\u001b[39;49mobj,\n\u001b[1;32m    <a href='file:///home/jongwook95.lee/miniforge3/envs/vision_machine/lib/python3.8/site-packages/xgboost/sklearn.py?line=968'>969</a>\u001b[0m     custom_metric\u001b[39m=\u001b[39;49mmetric,\n\u001b[1;32m    <a href='file:///home/jongwook95.lee/miniforge3/envs/vision_machine/lib/python3.8/site-packages/xgboost/sklearn.py?line=969'>970</a>\u001b[0m     verbose_eval\u001b[39m=\u001b[39;49mverbose,\n\u001b[1;32m    <a href='file:///home/jongwook95.lee/miniforge3/envs/vision_machine/lib/python3.8/site-packages/xgboost/sklearn.py?line=970'>971</a>\u001b[0m     xgb_model\u001b[39m=\u001b[39;49mmodel,\n\u001b[1;32m    <a href='file:///home/jongwook95.lee/miniforge3/envs/vision_machine/lib/python3.8/site-packages/xgboost/sklearn.py?line=971'>972</a>\u001b[0m     callbacks\u001b[39m=\u001b[39;49mcallbacks,\n\u001b[1;32m    <a href='file:///home/jongwook95.lee/miniforge3/envs/vision_machine/lib/python3.8/site-packages/xgboost/sklearn.py?line=972'>973</a>\u001b[0m )\n\u001b[1;32m    <a href='file:///home/jongwook95.lee/miniforge3/envs/vision_machine/lib/python3.8/site-packages/xgboost/sklearn.py?line=974'>975</a>\u001b[0m \u001b[39mself\u001b[39m\u001b[39m.\u001b[39m_set_evaluation_result(evals_result)\n\u001b[1;32m    <a href='file:///home/jongwook95.lee/miniforge3/envs/vision_machine/lib/python3.8/site-packages/xgboost/sklearn.py?line=975'>976</a>\u001b[0m \u001b[39mreturn\u001b[39;00m \u001b[39mself\u001b[39m\n",
      "File \u001b[0;32m~/miniforge3/envs/vision_machine/lib/python3.8/site-packages/xgboost/core.py:575\u001b[0m, in \u001b[0;36m_deprecate_positional_args.<locals>.inner_f\u001b[0;34m(*args, **kwargs)\u001b[0m\n\u001b[1;32m    <a href='file:///home/jongwook95.lee/miniforge3/envs/vision_machine/lib/python3.8/site-packages/xgboost/core.py?line=572'>573</a>\u001b[0m \u001b[39mfor\u001b[39;00m k, arg \u001b[39min\u001b[39;00m \u001b[39mzip\u001b[39m(sig\u001b[39m.\u001b[39mparameters, args):\n\u001b[1;32m    <a href='file:///home/jongwook95.lee/miniforge3/envs/vision_machine/lib/python3.8/site-packages/xgboost/core.py?line=573'>574</a>\u001b[0m     kwargs[k] \u001b[39m=\u001b[39m arg\n\u001b[0;32m--> <a href='file:///home/jongwook95.lee/miniforge3/envs/vision_machine/lib/python3.8/site-packages/xgboost/core.py?line=574'>575</a>\u001b[0m \u001b[39mreturn\u001b[39;00m f(\u001b[39m*\u001b[39;49m\u001b[39m*\u001b[39;49mkwargs)\n",
      "File \u001b[0;32m~/miniforge3/envs/vision_machine/lib/python3.8/site-packages/xgboost/training.py:181\u001b[0m, in \u001b[0;36mtrain\u001b[0;34m(params, dtrain, num_boost_round, evals, obj, feval, maximize, early_stopping_rounds, evals_result, verbose_eval, xgb_model, callbacks, custom_metric)\u001b[0m\n\u001b[1;32m    <a href='file:///home/jongwook95.lee/miniforge3/envs/vision_machine/lib/python3.8/site-packages/xgboost/training.py?line=178'>179</a>\u001b[0m \u001b[39mif\u001b[39;00m cb_container\u001b[39m.\u001b[39mbefore_iteration(bst, i, dtrain, evals):\n\u001b[1;32m    <a href='file:///home/jongwook95.lee/miniforge3/envs/vision_machine/lib/python3.8/site-packages/xgboost/training.py?line=179'>180</a>\u001b[0m     \u001b[39mbreak\u001b[39;00m\n\u001b[0;32m--> <a href='file:///home/jongwook95.lee/miniforge3/envs/vision_machine/lib/python3.8/site-packages/xgboost/training.py?line=180'>181</a>\u001b[0m bst\u001b[39m.\u001b[39;49mupdate(dtrain, i, obj)\n\u001b[1;32m    <a href='file:///home/jongwook95.lee/miniforge3/envs/vision_machine/lib/python3.8/site-packages/xgboost/training.py?line=181'>182</a>\u001b[0m \u001b[39mif\u001b[39;00m cb_container\u001b[39m.\u001b[39mafter_iteration(bst, i, dtrain, evals):\n\u001b[1;32m    <a href='file:///home/jongwook95.lee/miniforge3/envs/vision_machine/lib/python3.8/site-packages/xgboost/training.py?line=182'>183</a>\u001b[0m     \u001b[39mbreak\u001b[39;00m\n",
      "File \u001b[0;32m~/miniforge3/envs/vision_machine/lib/python3.8/site-packages/xgboost/core.py:1778\u001b[0m, in \u001b[0;36mBooster.update\u001b[0;34m(self, dtrain, iteration, fobj)\u001b[0m\n\u001b[1;32m   <a href='file:///home/jongwook95.lee/miniforge3/envs/vision_machine/lib/python3.8/site-packages/xgboost/core.py?line=1774'>1775</a>\u001b[0m \u001b[39mself\u001b[39m\u001b[39m.\u001b[39m_validate_features(dtrain)\n\u001b[1;32m   <a href='file:///home/jongwook95.lee/miniforge3/envs/vision_machine/lib/python3.8/site-packages/xgboost/core.py?line=1776'>1777</a>\u001b[0m \u001b[39mif\u001b[39;00m fobj \u001b[39mis\u001b[39;00m \u001b[39mNone\u001b[39;00m:\n\u001b[0;32m-> <a href='file:///home/jongwook95.lee/miniforge3/envs/vision_machine/lib/python3.8/site-packages/xgboost/core.py?line=1777'>1778</a>\u001b[0m     _check_call(_LIB\u001b[39m.\u001b[39;49mXGBoosterUpdateOneIter(\u001b[39mself\u001b[39;49m\u001b[39m.\u001b[39;49mhandle,\n\u001b[1;32m   <a href='file:///home/jongwook95.lee/miniforge3/envs/vision_machine/lib/python3.8/site-packages/xgboost/core.py?line=1778'>1779</a>\u001b[0m                                             ctypes\u001b[39m.\u001b[39;49mc_int(iteration),\n\u001b[1;32m   <a href='file:///home/jongwook95.lee/miniforge3/envs/vision_machine/lib/python3.8/site-packages/xgboost/core.py?line=1779'>1780</a>\u001b[0m                                             dtrain\u001b[39m.\u001b[39;49mhandle))\n\u001b[1;32m   <a href='file:///home/jongwook95.lee/miniforge3/envs/vision_machine/lib/python3.8/site-packages/xgboost/core.py?line=1780'>1781</a>\u001b[0m \u001b[39melse\u001b[39;00m:\n\u001b[1;32m   <a href='file:///home/jongwook95.lee/miniforge3/envs/vision_machine/lib/python3.8/site-packages/xgboost/core.py?line=1781'>1782</a>\u001b[0m     pred \u001b[39m=\u001b[39m \u001b[39mself\u001b[39m\u001b[39m.\u001b[39mpredict(dtrain, output_margin\u001b[39m=\u001b[39m\u001b[39mTrue\u001b[39;00m, training\u001b[39m=\u001b[39m\u001b[39mTrue\u001b[39;00m)\n",
      "\u001b[0;31mKeyboardInterrupt\u001b[0m: "
     ]
    }
   ],
   "source": [
    "from xgboost import XGBRegressor\n",
    "n_estimators_candidate = [100, 300, 500]\n",
    "max_depth_candidate = [3, 5, 7, 9]\n",
    "learning_rate_candidate = [0.1, 0.01, 0.001]\n",
    "\n",
    "# 결과를 저장할 빈 리스트 생성\n",
    "n_estimators_list = []\n",
    "max_depth_list = []\n",
    "learning_rate_list = []\n",
    "train_score_list = []\n",
    "val_score_list = []\n",
    "\n",
    "# XGBoost의 n_estimators 파라미터에 대해서\n",
    "for n_estimators in n_estimators_candidate:\n",
    "    # XGBoost의 max_depth 파라미터에 대해서\n",
    "    for max_depth in max_depth_candidate:\n",
    "        # XGBoost의 learning_rate 파라미터에 대해서\n",
    "        for learning_rate in learning_rate_candidate:\n",
    "            # 모델 생성 및 학습\n",
    "            model = XGBRegressor(n_estimators=n_estimators, max_depth=max_depth, learning_rate=learning_rate, objective='reg:squarederror').fit(X_train, y_train)\n",
    "            # Train 데이터에 대한 결과 확인\n",
    "            train_predict = model.predict(X_train)\n",
    "            train_score_list.append(np.sqrt(mean_squared_error(y_train, train_predict)))\n",
    "            # Test 데이터에 대한 결과 확인\n",
    "            test_predict = model.predict(X_test)\n",
    "            val_score_list.append(np.sqrt(mean_squared_error(y_test, test_predict)))\n",
    "            # Parameter 저장\n",
    "            n_estimators_list.append(n_estimators)\n",
    "            max_depth_list.append(max_depth)\n",
    "            learning_rate_list.append(learning_rate)\n",
    "            \n",
    "result = pd.DataFrame({\"n_estimators\": n_estimators_list, \"max_depth\": max_depth_list, \"learning_rate\": learning_rate_list, 'Train Score': train_score_list, 'Test Score': val_score_list})\n",
    "result = result.loc[result['Test Score'] == min(result['Test Score']), :].reset_index(drop = True)\n",
    "xgb_model = XGBRegressor(n_estimators=result['n_estimators'][0], max_depth=result['max_depth'][0], learning_rate=result['learning_rate'][0], objective='reg:squarederror').fit(train_X, train_y)\n",
    "result"
   ]
  },
  {
   "cell_type": "code",
   "execution_count": 24,
   "metadata": {},
   "outputs": [
    {
     "data": {
      "text/html": [
       "<div>\n",
       "<style scoped>\n",
       "    .dataframe tbody tr th:only-of-type {\n",
       "        vertical-align: middle;\n",
       "    }\n",
       "\n",
       "    .dataframe tbody tr th {\n",
       "        vertical-align: top;\n",
       "    }\n",
       "\n",
       "    .dataframe thead th {\n",
       "        text-align: right;\n",
       "    }\n",
       "</style>\n",
       "<table border=\"1\" class=\"dataframe\">\n",
       "  <thead>\n",
       "    <tr style=\"text-align: right;\">\n",
       "      <th></th>\n",
       "      <th>n_estimators</th>\n",
       "      <th>max_depth</th>\n",
       "      <th>learning_rate</th>\n",
       "      <th>Train Score</th>\n",
       "      <th>Test Score</th>\n",
       "    </tr>\n",
       "  </thead>\n",
       "  <tbody>\n",
       "    <tr>\n",
       "      <th>0</th>\n",
       "      <td>100</td>\n",
       "      <td>7</td>\n",
       "      <td>0.1</td>\n",
       "      <td>0.380034</td>\n",
       "      <td>0.551494</td>\n",
       "    </tr>\n",
       "  </tbody>\n",
       "</table>\n",
       "</div>"
      ],
      "text/plain": [
       "   n_estimators  max_depth  learning_rate  Train Score  Test Score\n",
       "0           100          7            0.1     0.380034    0.551494"
      ]
     },
     "execution_count": 24,
     "metadata": {},
     "output_type": "execute_result"
    }
   ],
   "source": [
    "result = pd.DataFrame({\"n_estimators\": n_estimators_list, \"max_depth\": max_depth_list, \"learning_rate\": learning_rate_list, 'Train Score': train_score_list, 'Test Score': val_score_list})\n",
    "result = result.loc[result['Test Score'] == min(result['Test Score']), :].reset_index(drop = True)\n",
    "xgb_model = XGBRegressor(n_estimators=result['n_estimators'][0], max_depth=result['max_depth'][0], learning_rate=result['learning_rate'][0], objective='reg:squarederror').fit(X_train, y_train)\n",
    "result"
   ]
  },
  {
   "cell_type": "code",
   "execution_count": 25,
   "metadata": {},
   "outputs": [
    {
     "name": "stdout",
     "output_type": "stream",
     "text": [
      "Train RMSE: 0.38003439677666156\n",
      "Train R2 Score: 0.6877637221225745\n",
      "Train MAE: 0.5370621540857569\n",
      "Train MAPE: 0.04769556104938614\n"
     ]
    }
   ],
   "source": [
    "from sklearn.metrics import mean_squared_error, r2_score, mean_absolute_error, mean_absolute_percentage_error\n",
    "train_predict = xgb_model.predict(X_train)\n",
    "print(\"Train RMSE: {}\".format(np.sqrt(mean_squared_error(y_train, train_predict))))\n",
    "print(\"Train R2 Score: {}\".format(r2_score(y_train, train_predict)))\n",
    "print(\"Train MAE: {}\".format(np.sqrt(mean_absolute_error(y_train, train_predict))))\n",
    "print(\"Train MAPE: {}\".format(mean_absolute_percentage_error(y_train, train_predict)))"
   ]
  },
  {
   "cell_type": "code",
   "execution_count": 26,
   "metadata": {},
   "outputs": [
    {
     "name": "stdout",
     "output_type": "stream",
     "text": [
      "Test RMSE: 0.5514944916823039\n",
      "Test R2 Score: 0.3798682938177199\n",
      "Test MAE: 0.42601560990056325\n",
      "Test MAPE: 0.07018551426366483\n"
     ]
    }
   ],
   "source": [
    "from sklearn.metrics import mean_squared_error, r2_score\n",
    "test_predict = xgb_model.predict(X_test)\n",
    "print(\"Test RMSE: {}\".format(np.sqrt(mean_squared_error(y_test, test_predict))))\n",
    "print(\"Test R2 Score: {}\".format(r2_score(y_test, test_predict)))\n",
    "print(\"Test MAE: {}\".format(mean_absolute_error(y_test, test_predict)))\n",
    "print(\"Test MAPE: {}\".format(mean_absolute_percentage_error(y_test, test_predict)))"
   ]
  },
  {
   "cell_type": "code",
   "execution_count": null,
   "metadata": {},
   "outputs": [],
   "source": []
  }
 ],
 "metadata": {
  "interpreter": {
   "hash": "8786e27bd1086ac4d9d40cc5555f877076005eb73afcfe8ecd44164236edd6aa"
  },
  "kernelspec": {
   "display_name": "Python 3.8.13 ('vision_machine')",
   "language": "python",
   "name": "python3"
  },
  "language_info": {
   "codemirror_mode": {
    "name": "ipython",
    "version": 3
   },
   "file_extension": ".py",
   "mimetype": "text/x-python",
   "name": "python",
   "nbconvert_exporter": "python",
   "pygments_lexer": "ipython3",
   "version": "3.8.13"
  },
  "orig_nbformat": 4
 },
 "nbformat": 4,
 "nbformat_minor": 2
}
