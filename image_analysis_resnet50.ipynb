{
 "cells": [
  {
   "cell_type": "markdown",
   "metadata": {},
   "source": [
    "## 1. 사용할 패키지 불러오기"
   ]
  },
  {
   "cell_type": "code",
   "execution_count": 1,
   "metadata": {},
   "outputs": [
    {
     "name": "stderr",
     "output_type": "stream",
     "text": [
      "/home/jongwook95.lee/miniforge3/envs/vision_machine/lib/python3.8/site-packages/tqdm/auto.py:22: TqdmWarning: IProgress not found. Please update jupyter and ipywidgets. See https://ipywidgets.readthedocs.io/en/stable/user_install.html\n",
      "  from .autonotebook import tqdm as notebook_tqdm\n"
     ]
    }
   ],
   "source": [
    "import pandas as pd\n",
    "import cv2\n",
    "import os\n",
    "from sklearn.model_selection import train_test_split\n",
    "from torch.optim import Adam\n",
    "from torch.nn import L1Loss\n",
    "from data_gen.data_gen import DatasetGenerator\n",
    "import torch\n",
    "import torchvision.models as models\n",
    "import torch.nn as nn\n",
    "import numpy as np\n",
    "from tqdm import tqdm"
   ]
  },
  {
   "cell_type": "markdown",
   "metadata": {},
   "source": [
    "## 2. 데이터 불러오기"
   ]
  },
  {
   "cell_type": "markdown",
   "metadata": {},
   "source": [
    "### (1) Table 데이터"
   ]
  },
  {
   "cell_type": "code",
   "execution_count": 3,
   "metadata": {},
   "outputs": [
    {
     "data": {
      "text/html": [
       "<div>\n",
       "<style scoped>\n",
       "    .dataframe tbody tr th:only-of-type {\n",
       "        vertical-align: middle;\n",
       "    }\n",
       "\n",
       "    .dataframe tbody tr th {\n",
       "        vertical-align: top;\n",
       "    }\n",
       "\n",
       "    .dataframe thead th {\n",
       "        text-align: right;\n",
       "    }\n",
       "</style>\n",
       "<table border=\"1\" class=\"dataframe\">\n",
       "  <thead>\n",
       "    <tr style=\"text-align: right;\">\n",
       "      <th></th>\n",
       "      <th>작가생존여부_사망</th>\n",
       "      <th>작가생존여부_생존</th>\n",
       "      <th>작가생존여부_알수없음</th>\n",
       "      <th>판매계절_가을</th>\n",
       "      <th>판매계절_겨울</th>\n",
       "      <th>판매계절_봄</th>\n",
       "      <th>판매계절_여름</th>\n",
       "      <th>재료_견본채색</th>\n",
       "      <th>재료_기타</th>\n",
       "      <th>재료_브론즈</th>\n",
       "      <th>...</th>\n",
       "      <th>판매처_칸옥션</th>\n",
       "      <th>판매처_케이옥션</th>\n",
       "      <th>판매처_헤럴드아트데이</th>\n",
       "      <th>가로</th>\n",
       "      <th>세로</th>\n",
       "      <th>작품 판매 횟수</th>\n",
       "      <th>판매가격</th>\n",
       "      <th>작가명</th>\n",
       "      <th>제목</th>\n",
       "      <th>이미지 고유 번호</th>\n",
       "    </tr>\n",
       "  </thead>\n",
       "  <tbody>\n",
       "    <tr>\n",
       "      <th>0</th>\n",
       "      <td>1</td>\n",
       "      <td>0</td>\n",
       "      <td>0</td>\n",
       "      <td>1</td>\n",
       "      <td>0</td>\n",
       "      <td>0</td>\n",
       "      <td>0</td>\n",
       "      <td>0</td>\n",
       "      <td>0</td>\n",
       "      <td>0</td>\n",
       "      <td>...</td>\n",
       "      <td>0</td>\n",
       "      <td>0</td>\n",
       "      <td>0</td>\n",
       "      <td>0.065372</td>\n",
       "      <td>0.065372</td>\n",
       "      <td>0.0</td>\n",
       "      <td>600000</td>\n",
       "      <td>임상진 Lim SangChin (1935~2013)</td>\n",
       "      <td>무제</td>\n",
       "      <td>380410</td>\n",
       "    </tr>\n",
       "    <tr>\n",
       "      <th>1</th>\n",
       "      <td>1</td>\n",
       "      <td>0</td>\n",
       "      <td>0</td>\n",
       "      <td>1</td>\n",
       "      <td>0</td>\n",
       "      <td>0</td>\n",
       "      <td>0</td>\n",
       "      <td>0</td>\n",
       "      <td>0</td>\n",
       "      <td>0</td>\n",
       "      <td>...</td>\n",
       "      <td>0</td>\n",
       "      <td>0</td>\n",
       "      <td>0</td>\n",
       "      <td>0.026429</td>\n",
       "      <td>0.026429</td>\n",
       "      <td>0.0</td>\n",
       "      <td>400000</td>\n",
       "      <td>정술원 Jung SulWon (1885~1959)</td>\n",
       "      <td>화조</td>\n",
       "      <td>380460</td>\n",
       "    </tr>\n",
       "    <tr>\n",
       "      <th>2</th>\n",
       "      <td>1</td>\n",
       "      <td>0</td>\n",
       "      <td>0</td>\n",
       "      <td>1</td>\n",
       "      <td>0</td>\n",
       "      <td>0</td>\n",
       "      <td>0</td>\n",
       "      <td>0</td>\n",
       "      <td>0</td>\n",
       "      <td>0</td>\n",
       "      <td>...</td>\n",
       "      <td>0</td>\n",
       "      <td>0</td>\n",
       "      <td>0</td>\n",
       "      <td>0.018878</td>\n",
       "      <td>0.018878</td>\n",
       "      <td>0.0</td>\n",
       "      <td>100000</td>\n",
       "      <td>정주상 Jeong JuSang (1925~2012)</td>\n",
       "      <td>심정흥장 (선면)</td>\n",
       "      <td>380491</td>\n",
       "    </tr>\n",
       "    <tr>\n",
       "      <th>3</th>\n",
       "      <td>0</td>\n",
       "      <td>1</td>\n",
       "      <td>0</td>\n",
       "      <td>1</td>\n",
       "      <td>0</td>\n",
       "      <td>0</td>\n",
       "      <td>0</td>\n",
       "      <td>0</td>\n",
       "      <td>0</td>\n",
       "      <td>0</td>\n",
       "      <td>...</td>\n",
       "      <td>0</td>\n",
       "      <td>0</td>\n",
       "      <td>0</td>\n",
       "      <td>0.025351</td>\n",
       "      <td>0.025351</td>\n",
       "      <td>0.0</td>\n",
       "      <td>360000</td>\n",
       "      <td>이양원 Lee YangWon (1944~)</td>\n",
       "      <td>풍속도</td>\n",
       "      <td>380417</td>\n",
       "    </tr>\n",
       "    <tr>\n",
       "      <th>4</th>\n",
       "      <td>0</td>\n",
       "      <td>1</td>\n",
       "      <td>0</td>\n",
       "      <td>1</td>\n",
       "      <td>0</td>\n",
       "      <td>0</td>\n",
       "      <td>0</td>\n",
       "      <td>0</td>\n",
       "      <td>1</td>\n",
       "      <td>0</td>\n",
       "      <td>...</td>\n",
       "      <td>0</td>\n",
       "      <td>0</td>\n",
       "      <td>0</td>\n",
       "      <td>0.019957</td>\n",
       "      <td>0.019957</td>\n",
       "      <td>0.0</td>\n",
       "      <td>240000</td>\n",
       "      <td>이외수 Lee OiSoo (1946~)</td>\n",
       "      <td>사람과 사람들</td>\n",
       "      <td>380391</td>\n",
       "    </tr>\n",
       "  </tbody>\n",
       "</table>\n",
       "<p>5 rows × 43 columns</p>\n",
       "</div>"
      ],
      "text/plain": [
       "   작가생존여부_사망  작가생존여부_생존  작가생존여부_알수없음  판매계절_가을  판매계절_겨울  판매계절_봄  판매계절_여름  \\\n",
       "0          1          0            0        1        0       0        0   \n",
       "1          1          0            0        1        0       0        0   \n",
       "2          1          0            0        1        0       0        0   \n",
       "3          0          1            0        1        0       0        0   \n",
       "4          0          1            0        1        0       0        0   \n",
       "\n",
       "   재료_견본채색  재료_기타  재료_브론즈  ...  판매처_칸옥션  판매처_케이옥션  판매처_헤럴드아트데이        가로  \\\n",
       "0        0      0       0  ...        0         0            0  0.065372   \n",
       "1        0      0       0  ...        0         0            0  0.026429   \n",
       "2        0      0       0  ...        0         0            0  0.018878   \n",
       "3        0      0       0  ...        0         0            0  0.025351   \n",
       "4        0      1       0  ...        0         0            0  0.019957   \n",
       "\n",
       "         세로  작품 판매 횟수    판매가격                           작가명         제목  \\\n",
       "0  0.065372       0.0  600000  임상진 Lim SangChin (1935~2013)         무제   \n",
       "1  0.026429       0.0  400000   정술원 Jung SulWon (1885~1959)         화조   \n",
       "2  0.018878       0.0  100000  정주상 Jeong JuSang (1925~2012)  심정흥장 (선면)   \n",
       "3  0.025351       0.0  360000       이양원 Lee YangWon (1944~)        풍속도   \n",
       "4  0.019957       0.0  240000         이외수 Lee OiSoo (1946~)    사람과 사람들   \n",
       "\n",
       "   이미지 고유 번호  \n",
       "0     380410  \n",
       "1     380460  \n",
       "2     380491  \n",
       "3     380417  \n",
       "4     380391  \n",
       "\n",
       "[5 rows x 43 columns]"
      ]
     },
     "execution_count": 3,
     "metadata": {},
     "output_type": "execute_result"
    }
   ],
   "source": [
    "table_data = pd.read_excel('data/final_data.xlsx')\n",
    "table_data.head()"
   ]
  },
  {
   "cell_type": "code",
   "execution_count": 4,
   "metadata": {},
   "outputs": [
    {
     "data": {
      "text/plain": [
       "(15197, 43)"
      ]
     },
     "execution_count": 4,
     "metadata": {},
     "output_type": "execute_result"
    }
   ],
   "source": [
    "remove_files = pd.read_excel('겹치는애들.xlsx')\n",
    "table_data = table_data.loc[-table_data['이미지 고유 번호'].isin(remove_files['이미지 고유 번호']), :].reset_index(drop = True)\n",
    "table_data.shape"
   ]
  },
  {
   "cell_type": "markdown",
   "metadata": {},
   "source": [
    "### (2) 이미지 데이터"
   ]
  },
  {
   "cell_type": "code",
   "execution_count": 4,
   "metadata": {},
   "outputs": [
    {
     "data": {
      "text/plain": [
       "['1월_files',\n",
       " '2월_files',\n",
       " '3월_files',\n",
       " '4월_files',\n",
       " '5월_files',\n",
       " '6월_files',\n",
       " '7월_files',\n",
       " '8월_files',\n",
       " '9월_files',\n",
       " '10월_files',\n",
       " '11월_files',\n",
       " '12월_files']"
      ]
     },
     "execution_count": 4,
     "metadata": {},
     "output_type": "execute_result"
    }
   ],
   "source": [
    "folder_list = sorted(os.listdir('data/image'))[3:] + sorted(os.listdir('data/image'))[:3]\n",
    "folder_list"
   ]
  },
  {
   "cell_type": "code",
   "execution_count": 5,
   "metadata": {},
   "outputs": [
    {
     "data": {
      "text/html": [
       "<div>\n",
       "<style scoped>\n",
       "    .dataframe tbody tr th:only-of-type {\n",
       "        vertical-align: middle;\n",
       "    }\n",
       "\n",
       "    .dataframe tbody tr th {\n",
       "        vertical-align: top;\n",
       "    }\n",
       "\n",
       "    .dataframe thead th {\n",
       "        text-align: right;\n",
       "    }\n",
       "</style>\n",
       "<table border=\"1\" class=\"dataframe\">\n",
       "  <thead>\n",
       "    <tr style=\"text-align: right;\">\n",
       "      <th></th>\n",
       "      <th>이미지 고유 번호</th>\n",
       "      <th>이미지경로</th>\n",
       "    </tr>\n",
       "  </thead>\n",
       "  <tbody>\n",
       "    <tr>\n",
       "      <th>0</th>\n",
       "      <td>335298</td>\n",
       "      <td>data/image/1월_files/335298.jpg</td>\n",
       "    </tr>\n",
       "    <tr>\n",
       "      <th>1</th>\n",
       "      <td>340721</td>\n",
       "      <td>data/image/1월_files/340721.jpg</td>\n",
       "    </tr>\n",
       "    <tr>\n",
       "      <th>2</th>\n",
       "      <td>357485</td>\n",
       "      <td>data/image/1월_files/357485.jpg</td>\n",
       "    </tr>\n",
       "    <tr>\n",
       "      <th>3</th>\n",
       "      <td>357663</td>\n",
       "      <td>data/image/1월_files/357663.jpg</td>\n",
       "    </tr>\n",
       "    <tr>\n",
       "      <th>4</th>\n",
       "      <td>155</td>\n",
       "      <td>data/image/1월_files/155.jpg</td>\n",
       "    </tr>\n",
       "  </tbody>\n",
       "</table>\n",
       "</div>"
      ],
      "text/plain": [
       "  이미지 고유 번호                           이미지경로\n",
       "0    335298  data/image/1월_files/335298.jpg\n",
       "1    340721  data/image/1월_files/340721.jpg\n",
       "2    357485  data/image/1월_files/357485.jpg\n",
       "3    357663  data/image/1월_files/357663.jpg\n",
       "4       155     data/image/1월_files/155.jpg"
      ]
     },
     "execution_count": 5,
     "metadata": {},
     "output_type": "execute_result"
    }
   ],
   "source": [
    "serial = []\n",
    "image_dir = []\n",
    "\n",
    "for folder_name in folder_list:\n",
    "    file_list = os.listdir(os.path.join('data/image', folder_name))\n",
    "    for fname in file_list:\n",
    "        if os.path.getsize(os.path.join(os.path.join('data/image', folder_name), fname)) > 3200:\n",
    "            serial.append(fname[:-4])\n",
    "            image_dir.append(os.path.join(os.path.join('data/image', folder_name), fname))\n",
    "\n",
    "image_df = pd.DataFrame({'이미지 고유 번호': serial, '이미지경로': image_dir})\n",
    "image_df.head()"
   ]
  },
  {
   "cell_type": "markdown",
   "metadata": {},
   "source": [
    "### (3) 합치기"
   ]
  },
  {
   "cell_type": "code",
   "execution_count": 6,
   "metadata": {},
   "outputs": [
    {
     "data": {
      "text/html": [
       "<div>\n",
       "<style scoped>\n",
       "    .dataframe tbody tr th:only-of-type {\n",
       "        vertical-align: middle;\n",
       "    }\n",
       "\n",
       "    .dataframe tbody tr th {\n",
       "        vertical-align: top;\n",
       "    }\n",
       "\n",
       "    .dataframe thead th {\n",
       "        text-align: right;\n",
       "    }\n",
       "</style>\n",
       "<table border=\"1\" class=\"dataframe\">\n",
       "  <thead>\n",
       "    <tr style=\"text-align: right;\">\n",
       "      <th></th>\n",
       "      <th>작가생존여부_사망</th>\n",
       "      <th>작가생존여부_생존</th>\n",
       "      <th>작가생존여부_알수없음</th>\n",
       "      <th>판매계절_가을</th>\n",
       "      <th>판매계절_겨울</th>\n",
       "      <th>판매계절_봄</th>\n",
       "      <th>판매계절_여름</th>\n",
       "      <th>재료_견본채색</th>\n",
       "      <th>재료_기타</th>\n",
       "      <th>재료_브론즈</th>\n",
       "      <th>...</th>\n",
       "      <th>판매처_케이옥션</th>\n",
       "      <th>판매처_헤럴드아트데이</th>\n",
       "      <th>가로</th>\n",
       "      <th>세로</th>\n",
       "      <th>작품 판매 횟수</th>\n",
       "      <th>판매가격</th>\n",
       "      <th>작가명</th>\n",
       "      <th>제목</th>\n",
       "      <th>이미지 고유 번호</th>\n",
       "      <th>이미지경로</th>\n",
       "    </tr>\n",
       "  </thead>\n",
       "  <tbody>\n",
       "    <tr>\n",
       "      <th>0</th>\n",
       "      <td>1</td>\n",
       "      <td>0</td>\n",
       "      <td>0</td>\n",
       "      <td>1</td>\n",
       "      <td>0</td>\n",
       "      <td>0</td>\n",
       "      <td>0</td>\n",
       "      <td>0</td>\n",
       "      <td>0</td>\n",
       "      <td>0</td>\n",
       "      <td>...</td>\n",
       "      <td>0</td>\n",
       "      <td>0</td>\n",
       "      <td>0.065372</td>\n",
       "      <td>0.065372</td>\n",
       "      <td>0.0</td>\n",
       "      <td>600000</td>\n",
       "      <td>임상진 Lim SangChin (1935~2013)</td>\n",
       "      <td>무제</td>\n",
       "      <td>380410</td>\n",
       "      <td>data/image/11월_files/380410.jpg</td>\n",
       "    </tr>\n",
       "    <tr>\n",
       "      <th>1</th>\n",
       "      <td>1</td>\n",
       "      <td>0</td>\n",
       "      <td>0</td>\n",
       "      <td>1</td>\n",
       "      <td>0</td>\n",
       "      <td>0</td>\n",
       "      <td>0</td>\n",
       "      <td>0</td>\n",
       "      <td>0</td>\n",
       "      <td>0</td>\n",
       "      <td>...</td>\n",
       "      <td>0</td>\n",
       "      <td>0</td>\n",
       "      <td>0.026429</td>\n",
       "      <td>0.026429</td>\n",
       "      <td>0.0</td>\n",
       "      <td>400000</td>\n",
       "      <td>정술원 Jung SulWon (1885~1959)</td>\n",
       "      <td>화조</td>\n",
       "      <td>380460</td>\n",
       "      <td>data/image/11월_files/380460.jpg</td>\n",
       "    </tr>\n",
       "    <tr>\n",
       "      <th>2</th>\n",
       "      <td>1</td>\n",
       "      <td>0</td>\n",
       "      <td>0</td>\n",
       "      <td>1</td>\n",
       "      <td>0</td>\n",
       "      <td>0</td>\n",
       "      <td>0</td>\n",
       "      <td>0</td>\n",
       "      <td>0</td>\n",
       "      <td>0</td>\n",
       "      <td>...</td>\n",
       "      <td>0</td>\n",
       "      <td>0</td>\n",
       "      <td>0.018878</td>\n",
       "      <td>0.018878</td>\n",
       "      <td>0.0</td>\n",
       "      <td>100000</td>\n",
       "      <td>정주상 Jeong JuSang (1925~2012)</td>\n",
       "      <td>심정흥장 (선면)</td>\n",
       "      <td>380491</td>\n",
       "      <td>data/image/11월_files/380491.jpg</td>\n",
       "    </tr>\n",
       "    <tr>\n",
       "      <th>3</th>\n",
       "      <td>0</td>\n",
       "      <td>1</td>\n",
       "      <td>0</td>\n",
       "      <td>1</td>\n",
       "      <td>0</td>\n",
       "      <td>0</td>\n",
       "      <td>0</td>\n",
       "      <td>0</td>\n",
       "      <td>0</td>\n",
       "      <td>0</td>\n",
       "      <td>...</td>\n",
       "      <td>0</td>\n",
       "      <td>0</td>\n",
       "      <td>0.025351</td>\n",
       "      <td>0.025351</td>\n",
       "      <td>0.0</td>\n",
       "      <td>360000</td>\n",
       "      <td>이양원 Lee YangWon (1944~)</td>\n",
       "      <td>풍속도</td>\n",
       "      <td>380417</td>\n",
       "      <td>data/image/11월_files/380417.jpg</td>\n",
       "    </tr>\n",
       "    <tr>\n",
       "      <th>4</th>\n",
       "      <td>0</td>\n",
       "      <td>1</td>\n",
       "      <td>0</td>\n",
       "      <td>1</td>\n",
       "      <td>0</td>\n",
       "      <td>0</td>\n",
       "      <td>0</td>\n",
       "      <td>0</td>\n",
       "      <td>1</td>\n",
       "      <td>0</td>\n",
       "      <td>...</td>\n",
       "      <td>0</td>\n",
       "      <td>0</td>\n",
       "      <td>0.019957</td>\n",
       "      <td>0.019957</td>\n",
       "      <td>0.0</td>\n",
       "      <td>240000</td>\n",
       "      <td>이외수 Lee OiSoo (1946~)</td>\n",
       "      <td>사람과 사람들</td>\n",
       "      <td>380391</td>\n",
       "      <td>data/image/11월_files/380391.jpg</td>\n",
       "    </tr>\n",
       "  </tbody>\n",
       "</table>\n",
       "<p>5 rows × 44 columns</p>\n",
       "</div>"
      ],
      "text/plain": [
       "   작가생존여부_사망  작가생존여부_생존  작가생존여부_알수없음  판매계절_가을  판매계절_겨울  판매계절_봄  판매계절_여름  \\\n",
       "0          1          0            0        1        0       0        0   \n",
       "1          1          0            0        1        0       0        0   \n",
       "2          1          0            0        1        0       0        0   \n",
       "3          0          1            0        1        0       0        0   \n",
       "4          0          1            0        1        0       0        0   \n",
       "\n",
       "   재료_견본채색  재료_기타  재료_브론즈  ...  판매처_케이옥션  판매처_헤럴드아트데이        가로        세로  \\\n",
       "0        0      0       0  ...         0            0  0.065372  0.065372   \n",
       "1        0      0       0  ...         0            0  0.026429  0.026429   \n",
       "2        0      0       0  ...         0            0  0.018878  0.018878   \n",
       "3        0      0       0  ...         0            0  0.025351  0.025351   \n",
       "4        0      1       0  ...         0            0  0.019957  0.019957   \n",
       "\n",
       "   작품 판매 횟수    판매가격                           작가명         제목  이미지 고유 번호  \\\n",
       "0       0.0  600000  임상진 Lim SangChin (1935~2013)         무제     380410   \n",
       "1       0.0  400000   정술원 Jung SulWon (1885~1959)         화조     380460   \n",
       "2       0.0  100000  정주상 Jeong JuSang (1925~2012)  심정흥장 (선면)     380491   \n",
       "3       0.0  360000       이양원 Lee YangWon (1944~)        풍속도     380417   \n",
       "4       0.0  240000         이외수 Lee OiSoo (1946~)    사람과 사람들     380391   \n",
       "\n",
       "                             이미지경로  \n",
       "0  data/image/11월_files/380410.jpg  \n",
       "1  data/image/11월_files/380460.jpg  \n",
       "2  data/image/11월_files/380491.jpg  \n",
       "3  data/image/11월_files/380417.jpg  \n",
       "4  data/image/11월_files/380391.jpg  \n",
       "\n",
       "[5 rows x 44 columns]"
      ]
     },
     "execution_count": 6,
     "metadata": {},
     "output_type": "execute_result"
    }
   ],
   "source": [
    "table_data['이미지 고유 번호'] = table_data['이미지 고유 번호'].map(str)\n",
    "final_data = pd.merge(table_data, image_df)\n",
    "final_data.head()"
   ]
  },
  {
   "cell_type": "markdown",
   "metadata": {},
   "source": [
    "### (4) 최종 데이터 저장"
   ]
  },
  {
   "cell_type": "code",
   "execution_count": 41,
   "metadata": {},
   "outputs": [],
   "source": [
    "final_data.to_excel('final_data.xlsx', index = False, encoding = 'euc-kr')"
   ]
  },
  {
   "cell_type": "markdown",
   "metadata": {},
   "source": [
    "## 3. Image 모델링"
   ]
  },
  {
   "cell_type": "markdown",
   "metadata": {},
   "source": [
    "### (1) Dataset 생성"
   ]
  },
  {
   "cell_type": "code",
   "execution_count": 2,
   "metadata": {},
   "outputs": [],
   "source": [
    "final_data = pd.read_excel('final_data_rgb_hsv.xlsx')\n",
    "image_dir = final_data['이미지경로']\n",
    "target = np.log10(final_data['판매가격'])"
   ]
  },
  {
   "cell_type": "code",
   "execution_count": 3,
   "metadata": {},
   "outputs": [],
   "source": [
    "train_image_dir, test_image_dir, train_target, test_target = train_test_split(image_dir, target, train_size = 0.8, random_state = 1004)"
   ]
  },
  {
   "cell_type": "code",
   "execution_count": 4,
   "metadata": {},
   "outputs": [],
   "source": [
    "train_image_dataset_generator = DatasetGenerator(list(train_image_dir), list(train_target), batch_size = 16, phase = 'train', train_valid_split = False)\n",
    "train_dataloader = train_image_dataset_generator.dataloader()\n",
    "\n",
    "test_image_dataset_generator = DatasetGenerator(list(test_image_dir), list(test_target), batch_size = 1, phase = 'test', train_valid_split = False)\n",
    "test_dataloader = test_image_dataset_generator.dataloader()"
   ]
  },
  {
   "cell_type": "markdown",
   "metadata": {},
   "source": [
    "### (2) Model 생성"
   ]
  },
  {
   "cell_type": "code",
   "execution_count": 5,
   "metadata": {},
   "outputs": [],
   "source": [
    "model_name = 'resnet50'"
   ]
  },
  {
   "cell_type": "code",
   "execution_count": 6,
   "metadata": {},
   "outputs": [],
   "source": [
    "# build model\n",
    "vision_model = models.resnet50(pretrained=True)\n",
    "num_ftrs = vision_model.fc.in_features\n",
    "vision_model.fc = nn.Linear(num_ftrs, 1)\n"
   ]
  },
  {
   "cell_type": "markdown",
   "metadata": {},
   "source": [
    "### (3) 학습 파라미터 지정"
   ]
  },
  {
   "cell_type": "code",
   "execution_count": 7,
   "metadata": {},
   "outputs": [],
   "source": [
    "epoch = 10\n",
    "learning_rate = 0.001\n",
    "weight_decay = 0.0001\n",
    "result_dir = './result/'"
   ]
  },
  {
   "cell_type": "markdown",
   "metadata": {},
   "source": [
    "### (4) Loss, Optimizer 생성"
   ]
  },
  {
   "cell_type": "code",
   "execution_count": 8,
   "metadata": {},
   "outputs": [],
   "source": [
    "# get loss function from LossFactory\n",
    "loss_fn = L1Loss()\n",
    "\n",
    "# get optimizer from OptimizerFactory\n",
    "optimizer = Adam(params = vision_model.parameters(),\n",
    "                lr=learning_rate,\n",
    "                weight_decay = weight_decay)"
   ]
  },
  {
   "cell_type": "markdown",
   "metadata": {},
   "source": [
    "### (5) 학습"
   ]
  },
  {
   "cell_type": "code",
   "execution_count": 18,
   "metadata": {},
   "outputs": [
    {
     "name": "stdout",
     "output_type": "stream",
     "text": [
      "resnet50 start training!\n"
     ]
    },
    {
     "name": "stderr",
     "output_type": "stream",
     "text": [
      "  0%|          | 0/752 [00:00<?, ?it/s]/home/jongwook95.lee/miniforge3/envs/vision_machine/lib/python3.8/site-packages/torch/nn/modules/loss.py:96: UserWarning: Using a target size (torch.Size([16])) that is different to the input size (torch.Size([16, 1])). This will likely lead to incorrect results due to broadcasting. Please ensure they have the same size.\n",
      "  return F.l1_loss(input, target, reduction=self.reduction)\n",
      "100%|█████████▉| 751/752 [03:51<00:00,  3.15it/s]/home/jongwook95.lee/miniforge3/envs/vision_machine/lib/python3.8/site-packages/torch/nn/modules/loss.py:96: UserWarning: Using a target size (torch.Size([10])) that is different to the input size (torch.Size([10, 1])). This will likely lead to incorrect results due to broadcasting. Please ensure they have the same size.\n",
      "  return F.l1_loss(input, target, reduction=self.reduction)\n",
      "100%|██████████| 752/752 [03:52<00:00,  3.24it/s]\n",
      "  0%|          | 0/3007 [00:00<?, ?it/s]/home/jongwook95.lee/miniforge3/envs/vision_machine/lib/python3.8/site-packages/torch/nn/modules/loss.py:96: UserWarning: Using a target size (torch.Size([1])) that is different to the input size (torch.Size([1, 1])). This will likely lead to incorrect results due to broadcasting. Please ensure they have the same size.\n",
      "  return F.l1_loss(input, target, reduction=self.reduction)\n",
      "100%|██████████| 3007/3007 [01:08<00:00, 43.90it/s]\n"
     ]
    },
    {
     "name": "stdout",
     "output_type": "stream",
     "text": [
      "Epoch: 1, Training Loss: 0.03761222618334788, Test Loss: 0.126953125\n",
      "Validation Loss Decreased(inf--->0.126953) \t Saving The Model\n"
     ]
    },
    {
     "name": "stderr",
     "output_type": "stream",
     "text": [
      "100%|██████████| 752/752 [02:26<00:00,  5.15it/s]\n",
      "100%|██████████| 3007/3007 [00:44<00:00, 67.60it/s]\n"
     ]
    },
    {
     "name": "stdout",
     "output_type": "stream",
     "text": [
      "Epoch: 2, Training Loss: 0.0337619296916602, Test Loss: 0.29393529891967773\n"
     ]
    },
    {
     "name": "stderr",
     "output_type": "stream",
     "text": [
      "100%|██████████| 752/752 [02:24<00:00,  5.22it/s]\n",
      "100%|██████████| 3007/3007 [00:43<00:00, 69.46it/s]\n"
     ]
    },
    {
     "name": "stdout",
     "output_type": "stream",
     "text": [
      "Epoch: 3, Training Loss: 0.03334179784547776, Test Loss: 0.023242473602294922\n",
      "Validation Loss Decreased(0.126953--->0.023242) \t Saving The Model\n"
     ]
    },
    {
     "name": "stderr",
     "output_type": "stream",
     "text": [
      "100%|██████████| 752/752 [02:26<00:00,  5.15it/s]\n",
      "100%|██████████| 3007/3007 [00:46<00:00, 64.30it/s]\n"
     ]
    },
    {
     "name": "stdout",
     "output_type": "stream",
     "text": [
      "Epoch: 4, Training Loss: 0.03309816000487735, Test Loss: 0.7652182579040527\n"
     ]
    },
    {
     "name": "stderr",
     "output_type": "stream",
     "text": [
      "100%|██████████| 752/752 [02:25<00:00,  5.17it/s]\n",
      "100%|██████████| 3007/3007 [00:45<00:00, 66.72it/s]\n"
     ]
    },
    {
     "name": "stdout",
     "output_type": "stream",
     "text": [
      "Epoch: 5, Training Loss: 0.03334223741759606, Test Loss: 0.3917398452758789\n"
     ]
    },
    {
     "name": "stderr",
     "output_type": "stream",
     "text": [
      "100%|██████████| 752/752 [02:25<00:00,  5.17it/s]\n",
      "100%|██████████| 3007/3007 [00:46<00:00, 64.20it/s]\n"
     ]
    },
    {
     "name": "stdout",
     "output_type": "stream",
     "text": [
      "Epoch: 6, Training Loss: 0.0329103832489791, Test Loss: 0.45385313034057617\n"
     ]
    },
    {
     "name": "stderr",
     "output_type": "stream",
     "text": [
      "100%|██████████| 752/752 [02:26<00:00,  5.15it/s]\n",
      "100%|██████████| 3007/3007 [00:46<00:00, 64.61it/s]\n"
     ]
    },
    {
     "name": "stdout",
     "output_type": "stream",
     "text": [
      "Epoch: 7, Training Loss: 0.03275746387340366, Test Loss: 0.22496318817138672\n"
     ]
    },
    {
     "name": "stderr",
     "output_type": "stream",
     "text": [
      "100%|██████████| 752/752 [02:25<00:00,  5.17it/s]\n",
      "100%|██████████| 3007/3007 [00:46<00:00, 64.70it/s]\n"
     ]
    },
    {
     "name": "stdout",
     "output_type": "stream",
     "text": [
      "Epoch: 8, Training Loss: 0.032870031530631984, Test Loss: 0.23929262161254883\n"
     ]
    },
    {
     "name": "stderr",
     "output_type": "stream",
     "text": [
      "100%|██████████| 752/752 [02:23<00:00,  5.23it/s]\n",
      "100%|██████████| 3007/3007 [00:47<00:00, 63.72it/s]\n"
     ]
    },
    {
     "name": "stdout",
     "output_type": "stream",
     "text": [
      "Epoch: 9, Training Loss: 0.03278304848255233, Test Loss: 0.398284912109375\n"
     ]
    },
    {
     "name": "stderr",
     "output_type": "stream",
     "text": [
      "100%|██████████| 752/752 [02:24<00:00,  5.20it/s]\n",
      "100%|██████████| 3007/3007 [00:46<00:00, 65.29it/s]"
     ]
    },
    {
     "name": "stdout",
     "output_type": "stream",
     "text": [
      "Epoch: 10, Training Loss: 0.03268104889479644, Test Loss: 0.13852739334106445\n"
     ]
    },
    {
     "name": "stderr",
     "output_type": "stream",
     "text": [
      "\n"
     ]
    }
   ],
   "source": [
    "print(\"{} start training!\".format(model_name))\n",
    "device = torch.device(\"cuda\" if torch.cuda.is_available() else \"cpu\")\n",
    "vision_model.to(device)\n",
    "min_valid_loss = np.inf\n",
    "\n",
    "# training\n",
    "for e in range(epoch):\n",
    "    train_loss = 0.0\n",
    "    vision_model.train()     # Optional when not using Model Specific layer\n",
    "    for data in tqdm(train_dataloader['train']):\n",
    "        if torch.cuda.is_available():\n",
    "            images, labels = data['image'].float().to(device), data['target'].float().to(device)\n",
    "        \n",
    "        optimizer.zero_grad()\n",
    "        target = vision_model(images)\n",
    "        loss = loss_fn(target,labels)\n",
    "        loss.backward()\n",
    "        optimizer.step()\n",
    "        train_loss += loss.item() / len(images)\n",
    "            \n",
    "    valid_loss = 0.0\n",
    "    vision_model.eval()     # Optional when not using Model Specific layer\n",
    "    for data in tqdm(test_dataloader['test']):\n",
    "        if torch.cuda.is_available():\n",
    "            data, labels = data['image'].float().to(device), data['target'].float().to(device)\n",
    "        \n",
    "        target = vision_model(data)\n",
    "        loss = loss_fn(target,labels)\n",
    "        valid_loss = loss.item() * len(data)\n",
    "\n",
    "    print(\"Epoch: {}, Training Loss: {}, Test Loss: {}\".format(e+1, train_loss / len(train_dataloader['train']), valid_loss))   \n",
    "    if min_valid_loss > valid_loss:\n",
    "        print(f'Validation Loss Decreased({min_valid_loss:.6f}--->{valid_loss:.6f}) \\t Saving The Model')\n",
    "        min_valid_loss = valid_loss\n",
    "        # Saving State Dict\n",
    "        torch.save(vision_model.state_dict(), result_dir + 'Best_image_resnet_model.pth')    "
   ]
  },
  {
   "cell_type": "markdown",
   "metadata": {},
   "source": [
    "### (6) Load Best Model"
   ]
  },
  {
   "cell_type": "code",
   "execution_count": 9,
   "metadata": {},
   "outputs": [
    {
     "data": {
      "text/plain": [
       "<All keys matched successfully>"
      ]
     },
     "execution_count": 9,
     "metadata": {},
     "output_type": "execute_result"
    }
   ],
   "source": [
    "vision_model.load_state_dict(torch.load('result/Best_image_resnet_model.pth'))"
   ]
  },
  {
   "cell_type": "markdown",
   "metadata": {},
   "source": [
    "### (7) 성능 평가"
   ]
  },
  {
   "cell_type": "markdown",
   "metadata": {},
   "source": [
    "#### - 학습 데이터에 대한 성능"
   ]
  },
  {
   "cell_type": "code",
   "execution_count": 10,
   "metadata": {},
   "outputs": [
    {
     "name": "stdout",
     "output_type": "stream",
     "text": [
      "start prediction\n"
     ]
    }
   ],
   "source": [
    "device = torch.device(\"cuda\" if torch.cuda.is_available() else \"cpu\")\n",
    "print('start prediction')\n",
    "predictions = []\n",
    "vision_model.to(device)\n",
    "\n",
    "with torch.no_grad():  \n",
    "    for data in train_dataloader['train']:\n",
    "        images, labels = data['image'].float().to(device), data['target'].float().to(device)\n",
    "        images = images.to(device)  \n",
    "        labels = labels.to(device)  \n",
    "        vision_model.eval()  \n",
    "        yhat = vision_model(images)  \n",
    "        pred = list(yhat.cpu().numpy())\n",
    "        predictions = predictions + list(np.hstack(pred))"
   ]
  },
  {
   "cell_type": "code",
   "execution_count": 11,
   "metadata": {},
   "outputs": [
    {
     "name": "stdout",
     "output_type": "stream",
     "text": [
      "Train RMSE: 0.6861731869925998\n",
      "Train R2 Score: -0.017899815547231857\n",
      "Train MAE: 0.7343530386071543\n",
      "Train MAPE: 0.09043211295685508\n"
     ]
    }
   ],
   "source": [
    "from sklearn.metrics import mean_squared_error, r2_score, mean_absolute_error, mean_absolute_percentage_error\n",
    "print(\"Train RMSE: {}\".format(np.sqrt(mean_squared_error(train_target, predictions))))\n",
    "print(\"Train R2 Score: {}\".format(r2_score(train_target, predictions)))\n",
    "print(\"Train MAE: {}\".format(np.sqrt(mean_absolute_error(train_target, predictions))))\n",
    "print(\"Train MAPE: {}\".format(mean_absolute_percentage_error(train_target, predictions)))"
   ]
  },
  {
   "cell_type": "markdown",
   "metadata": {},
   "source": [
    "#### - 테스트 데이터에 대한 성능"
   ]
  },
  {
   "cell_type": "code",
   "execution_count": 12,
   "metadata": {},
   "outputs": [
    {
     "name": "stdout",
     "output_type": "stream",
     "text": [
      "start prediction\n"
     ]
    }
   ],
   "source": [
    "print('start prediction')\n",
    "predictions = []\n",
    "vision_model.to(device)\n",
    "\n",
    "with torch.no_grad():  \n",
    "    for data in test_dataloader['test']:\n",
    "        images, labels = data['image'].float().to(device), data['target'].float().to(device)\n",
    "        images = images.to(device)  \n",
    "        labels = labels.to(device)  \n",
    "        vision_model.eval()  \n",
    "        yhat = vision_model(images)  \n",
    "        pred = list(yhat.cpu().numpy())\n",
    "        predictions.append(pred[0][0])"
   ]
  },
  {
   "cell_type": "code",
   "execution_count": 13,
   "metadata": {},
   "outputs": [
    {
     "name": "stdout",
     "output_type": "stream",
     "text": [
      "Test RMSE: 0.7062739596312979\n",
      "Test R2 Score: -0.017063260679462067\n",
      "Test MAE: 0.7465282065033191\n",
      "Test MAPE: 0.09362848214241283\n"
     ]
    },
    {
     "ename": "",
     "evalue": "",
     "output_type": "error",
     "traceback": [
      "\u001b[1;31mThe Kernel crashed while executing code in the the current cell or a previous cell. Please review the code in the cell(s) to identify a possible cause of the failure. Click <a href='https://aka.ms/vscodeJupyterKernelCrash'>here</a> for more info. View Jupyter <a href='command:jupyter.viewOutput'>log</a> for further details."
     ]
    }
   ],
   "source": [
    "print(\"Test RMSE: {}\".format(np.sqrt(mean_squared_error(test_target, predictions))))\n",
    "print(\"Test R2 Score: {}\".format(r2_score(test_target, predictions)))\n",
    "print(\"Test MAE: {}\".format(np.sqrt(mean_absolute_error(test_target, predictions))))\n",
    "print(\"Test MAPE: {}\".format(mean_absolute_percentage_error(test_target, predictions)))"
   ]
  },
  {
   "cell_type": "code",
   "execution_count": null,
   "metadata": {},
   "outputs": [],
   "source": []
  }
 ],
 "metadata": {
  "interpreter": {
   "hash": "8786e27bd1086ac4d9d40cc5555f877076005eb73afcfe8ecd44164236edd6aa"
  },
  "kernelspec": {
   "display_name": "Python 3.8.13 ('vision_machine')",
   "language": "python",
   "name": "python3"
  },
  "language_info": {
   "codemirror_mode": {
    "name": "ipython",
    "version": 3
   },
   "file_extension": ".py",
   "mimetype": "text/x-python",
   "name": "python",
   "nbconvert_exporter": "python",
   "pygments_lexer": "ipython3",
   "version": "3.8.13"
  },
  "orig_nbformat": 4
 },
 "nbformat": 4,
 "nbformat_minor": 2
}
